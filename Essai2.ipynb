{
  "nbformat": 4,
  "nbformat_minor": 0,
  "metadata": {
    "colab": {
      "provenance": [],
      "authorship_tag": "ABX9TyMaTiUDOSEBx2YKecSXoBiz",
      "include_colab_link": true
    },
    "kernelspec": {
      "name": "python3",
      "display_name": "Python 3"
    },
    "language_info": {
      "name": "python"
    }
  },
  "cells": [
    {
      "cell_type": "markdown",
      "metadata": {
        "id": "view-in-github",
        "colab_type": "text"
      },
      "source": [
        "<a href=\"https://colab.research.google.com/github/Elvira-03/Vani/blob/main/Essai2.ipynb\" target=\"_parent\"><img src=\"https://colab.research.google.com/assets/colab-badge.svg\" alt=\"Open In Colab\"/></a>"
      ]
    },
    {
      "cell_type": "code",
      "execution_count": 1,
      "metadata": {
        "colab": {
          "base_uri": "https://localhost:8080/"
        },
        "id": "c6SemI4-Zz_X",
        "outputId": "bae19296-4d35-41b6-db11-ff36a4a0600e"
      },
      "outputs": [
        {
          "output_type": "stream",
          "name": "stdout",
          "text": [
            "Requirement already satisfied: rdkit in /usr/local/lib/python3.10/dist-packages (2023.9.6)\n",
            "Requirement already satisfied: numpy in /usr/local/lib/python3.10/dist-packages (from rdkit) (1.25.2)\n",
            "Requirement already satisfied: Pillow in /usr/local/lib/python3.10/dist-packages (from rdkit) (9.4.0)\n"
          ]
        }
      ],
      "source": [
        "pip install rdkit"
      ]
    },
    {
      "cell_type": "code",
      "source": [
        "import rdkit\n",
        "\n",
        "rdkit.__version__"
      ],
      "metadata": {
        "colab": {
          "base_uri": "https://localhost:8080/",
          "height": 35
        },
        "id": "cDrg4ToEZ6-1",
        "outputId": "bb57bb54-7da6-4989-abd4-a2bb35e15730"
      },
      "execution_count": 2,
      "outputs": [
        {
          "output_type": "execute_result",
          "data": {
            "text/plain": [
              "'2023.09.6'"
            ],
            "application/vnd.google.colaboratory.intrinsic+json": {
              "type": "string"
            }
          },
          "metadata": {},
          "execution_count": 2
        }
      ]
    },
    {
      "cell_type": "code",
      "source": [
        "from rdkit import Chem\n",
        "from rdkit.Chem import AllChem"
      ],
      "metadata": {
        "id": "OE78PS2RaAFO"
      },
      "execution_count": 3,
      "outputs": []
    },
    {
      "cell_type": "markdown",
      "source": [
        "#### Conertir mon smile en molécule rdkit"
      ],
      "metadata": {
        "id": "9f9wRsevUTdJ"
      }
    },
    {
      "cell_type": "code",
      "source": [
        "smi = 'NC1=C(C=C)C(=O)N=C2SNC=C12'\n",
        "smi_key = 'Mol1'\n",
        "m = Chem.MolFromSmiles(smi)\n",
        "mole = AllChem.AddHs(m)\n",
        "mole"
      ],
      "metadata": {
        "colab": {
          "base_uri": "https://localhost:8080/",
          "height": 167
        },
        "id": "d6vRW0h5aKpa",
        "outputId": "c638f06b-54e8-4539-823f-93067268ad9e"
      },
      "execution_count": 4,
      "outputs": [
        {
          "output_type": "execute_result",
          "data": {
            "text/plain": [
              "<rdkit.Chem.rdchem.Mol at 0x7c79040c2500>"
            ],
            "image/png": "[encoded data removed]"
          },
          "metadata": {},
          "execution_count": 4
        }
      ]
    },
    {
      "cell_type": "markdown",
      "source": [
        "#### Propriétés de ma molécule"
      ],
      "metadata": {
        "id": "bBYYnSgxUaR7"
      }
    },
    {
      "cell_type": "code",
      "source": [
        "from rdkit.Chem import Descriptors\n",
        "import pandas as pd\n",
        "\n",
        "\n",
        "Molwt = Descriptors.ExactMolWt(mole)\n",
        "Averagemolwt=Descriptors.HeavyAtomMolWt(mole)\n",
        "Solubility= Descriptors.MolLogP(mole)\n",
        "Polarity = Descriptors.TPSA(mole)\n",
        "Hbd = Descriptors.NumHDonors(mole)\n",
        "Hba = Descriptors.NumHAcceptors(mole)\n",
        "\n",
        "print(f'Some molecular properties are :\\\n",
        "      \\n Molwt={Descriptors.ExactMolWt(mole)},\\\n",
        "      \\n Averagemolwt={Descriptors.HeavyAtomMolWt(mole)},\\\n",
        "      \\n Polarity={Descriptors.TPSA(mole)},\\\n",
        "      \\n Solubility={Descriptors.MolLogP(mole)},\\\n",
        "      \\n Hbd={Descriptors.NumHDonors(mole)},\\\n",
        "      \\n Hba={Descriptors.NumHAcceptors(mole)}')\n",
        "\n",
        "\n",
        "Descripteurs = [Molwt,Averagemolwt,Polarity,Solubility,Hbd,Hba]\n",
        "\n",
        "df = pd.DataFrame(Descripteurs,['Molwt','Averagemolwt','Polarity','Solubility','Hbd','Hba'])\n",
        "df"
      ],
      "metadata": {
        "colab": {
          "base_uri": "https://localhost:8080/",
          "height": 359
        },
        "id": "xCyZMVNhaY5R",
        "outputId": "13009dee-5a91-45b5-a65e-599cf0981524"
      },
      "execution_count": 5,
      "outputs": [
        {
          "output_type": "stream",
          "name": "stdout",
          "text": [
            "Some molecular properties are :      \n",
            " Molwt=193.030982844,      \n",
            " Averagemolwt=186.17499999999998,      \n",
            " Polarity=71.77000000000001,      \n",
            " Solubility=1.1614,      \n",
            " Hbd=2,      \n",
            " Hba=4\n"
          ]
        },
        {
          "output_type": "execute_result",
          "data": {
            "text/plain": [
              "                       0\n",
              "Molwt         193.030983\n",
              "Averagemolwt  186.175000\n",
              "Polarity       71.770000\n",
              "Solubility      1.161400\n",
              "Hbd             2.000000\n",
              "Hba             4.000000"
            ],
            "text/html": [
              "\n",
              "  <div id=\"df-56cb4496-91fd-4b07-8a97-8ab31d633547\" class=\"colab-df-container\">\n",
              "    <div>\n",
              "<style scoped>\n",
              "    .dataframe tbody tr th:only-of-type {\n",
              "        vertical-align: middle;\n",
              "    }\n",
              "\n",
              "    .dataframe tbody tr th {\n",
              "        vertical-align: top;\n",
              "    }\n",
              "\n",
              "    .dataframe thead th {\n",
              "        text-align: right;\n",
              "    }\n",
              "</style>\n",
              "<table border=\"1\" class=\"dataframe\">\n",
              "  <thead>\n",
              "    <tr style=\"text-align: right;\">\n",
              "      <th></th>\n",
              "      <th>0</th>\n",
              "    </tr>\n",
              "  </thead>\n",
              "  <tbody>\n",
              "    <tr>\n",
              "      <th>Molwt</th>\n",
              "      <td>193.030983</td>\n",
              "    </tr>\n",
              "    <tr>\n",
              "      <th>Averagemolwt</th>\n",
              "      <td>186.175000</td>\n",
              "    </tr>\n",
              "    <tr>\n",
              "      <th>Polarity</th>\n",
              "      <td>71.770000</td>\n",
              "    </tr>\n",
              "    <tr>\n",
              "      <th>Solubility</th>\n",
              "      <td>1.161400</td>\n",
              "    </tr>\n",
              "    <tr>\n",
              "      <th>Hbd</th>\n",
              "      <td>2.000000</td>\n",
              "    </tr>\n",
              "    <tr>\n",
              "      <th>Hba</th>\n",
              "      <td>4.000000</td>\n",
              "    </tr>\n",
              "  </tbody>\n",
              "</table>\n",
              "</div>\n",
              "    <div class=\"colab-df-buttons\">\n",
              "\n",
              "  <div class=\"colab-df-container\">\n",
              "    <button class=\"colab-df-convert\" onclick=\"convertToInteractive('df-56cb4496-91fd-4b07-8a97-8ab31d633547')\"\n",
              "            title=\"Convert this dataframe to an interactive table.\"\n",
              "            style=\"display:none;\">\n",
              "\n",
              "  <svg xmlns=\"http://www.w3.org/2000/svg\" height=\"24px\" viewBox=\"0 -960 960 960\">\n",
              "    <path d=\"M120-120v-720h720v720H120Zm60-500h600v-160H180v160Zm220 220h160v-160H400v160Zm0 220h160v-160H400v160ZM180-400h160v-160H180v160Zm440 0h160v-160H620v160ZM180-180h160v-160H180v160Zm440 0h160v-160H620v160Z\"/>\n",
              "  </svg>\n",
              "    </button>\n",
              "\n",
              "  <style>\n",
              "    .colab-df-container {\n",
              "      display:flex;\n",
              "      gap: 12px;\n",
              "    }\n",
              "\n",
              "    .colab-df-convert {\n",
              "      background-color: #E8F0FE;\n",
              "      border: none;\n",
              "      border-radius: 50%;\n",
              "      cursor: pointer;\n",
              "      display: none;\n",
              "      fill: #1967D2;\n",
              "      height: 32px;\n",
              "      padding: 0 0 0 0;\n",
              "      width: 32px;\n",
              "    }\n",
              "\n",
              "    .colab-df-convert:hover {\n",
              "      background-color: #E2EBFA;\n",
              "      box-shadow: 0px 1px 2px rgba(60, 64, 67, 0.3), 0px 1px 3px 1px rgba(60, 64, 67, 0.15);\n",
              "      fill: #174EA6;\n",
              "    }\n",
              "\n",
              "    .colab-df-buttons div {\n",
              "      margin-bottom: 4px;\n",
              "    }\n",
              "\n",
              "    [theme=dark] .colab-df-convert {\n",
              "      background-color: #3B4455;\n",
              "      fill: #D2E3FC;\n",
              "    }\n",
              "\n",
              "    [theme=dark] .colab-df-convert:hover {\n",
              "      background-color: #434B5C;\n",
              "      box-shadow: 0px 1px 3px 1px rgba(0, 0, 0, 0.15);\n",
              "      filter: drop-shadow(0px 1px 2px rgba(0, 0, 0, 0.3));\n",
              "      fill: #FFFFFF;\n",
              "    }\n",
              "  </style>\n",
              "\n",
              "    <script>\n",
              "      const buttonEl =\n",
              "        document.querySelector('#df-56cb4496-91fd-4b07-8a97-8ab31d633547 button.colab-df-convert');\n",
              "      buttonEl.style.display =\n",
              "        google.colab.kernel.accessAllowed ? 'block' : 'none';\n",
              "\n",
              "      async function convertToInteractive(key) {\n",
              "        const element = document.querySelector('#df-56cb4496-91fd-4b07-8a97-8ab31d633547');\n",
              "        const dataTable =\n",
              "          await google.colab.kernel.invokeFunction('convertToInteractive',\n",
              "                                                    [key], {});\n",
              "        if (!dataTable) return;\n",
              "\n",
              "        const docLinkHtml = 'Like what you see? Visit the ' +\n",
              "          '<a target=\"_blank\" href=https://colab.research.google.com/notebooks/data_table.ipynb>data table notebook</a>'\n",
              "          + ' to learn more about interactive tables.';\n",
              "        element.innerHTML = '';\n",
              "        dataTable['output_type'] = 'display_data';\n",
              "        await google.colab.output.renderOutput(dataTable, element);\n",
              "        const docLink = document.createElement('div');\n",
              "        docLink.innerHTML = docLinkHtml;\n",
              "        element.appendChild(docLink);\n",
              "      }\n",
              "    </script>\n",
              "  </div>\n",
              "\n",
              "\n",
              "<div id=\"df-a17c5bbc-82b5-4a26-8428-9e7c6cbfabcd\">\n",
              "  <button class=\"colab-df-quickchart\" onclick=\"quickchart('df-a17c5bbc-82b5-4a26-8428-9e7c6cbfabcd')\"\n",
              "            title=\"Suggest charts\"\n",
              "            style=\"display:none;\">\n",
              "\n",
              "<svg xmlns=\"http://www.w3.org/2000/svg\" height=\"24px\"viewBox=\"0 0 24 24\"\n",
              "     width=\"24px\">\n",
              "    <g>\n",
              "        <path d=\"M19 3H5c-1.1 0-2 .9-2 2v14c0 1.1.9 2 2 2h14c1.1 0 2-.9 2-2V5c0-1.1-.9-2-2-2zM9 17H7v-7h2v7zm4 0h-2V7h2v10zm4 0h-2v-4h2v4z\"/>\n",
              "    </g>\n",
              "</svg>\n",
              "  </button>\n",
              "\n",
              "<style>\n",
              "  .colab-df-quickchart {\n",
              "      --bg-color: #E8F0FE;\n",
              "      --fill-color: #1967D2;\n",
              "      --hover-bg-color: #E2EBFA;\n",
              "      --hover-fill-color: #174EA6;\n",
              "      --disabled-fill-color: #AAA;\n",
              "      --disabled-bg-color: #DDD;\n",
              "  }\n",
              "\n",
              "  [theme=dark] .colab-df-quickchart {\n",
              "      --bg-color: #3B4455;\n",
              "      --fill-color: #D2E3FC;\n",
              "      --hover-bg-color: #434B5C;\n",
              "      --hover-fill-color: #FFFFFF;\n",
              "      --disabled-bg-color: #3B4455;\n",
              "      --disabled-fill-color: #666;\n",
              "  }\n",
              "\n",
              "  .colab-df-quickchart {\n",
              "    background-color: var(--bg-color);\n",
              "    border: none;\n",
              "    border-radius: 50%;\n",
              "    cursor: pointer;\n",
              "    display: none;\n",
              "    fill: var(--fill-color);\n",
              "    height: 32px;\n",
              "    padding: 0;\n",
              "    width: 32px;\n",
              "  }\n",
              "\n",
              "  .colab-df-quickchart:hover {\n",
              "    background-color: var(--hover-bg-color);\n",
              "    box-shadow: 0 1px 2px rgba(60, 64, 67, 0.3), 0 1px 3px 1px rgba(60, 64, 67, 0.15);\n",
              "    fill: var(--button-hover-fill-color);\n",
              "  }\n",
              "\n",
              "  .colab-df-quickchart-complete:disabled,\n",
              "  .colab-df-quickchart-complete:disabled:hover {\n",
              "    background-color: var(--disabled-bg-color);\n",
              "    fill: var(--disabled-fill-color);\n",
              "    box-shadow: none;\n",
              "  }\n",
              "\n",
              "  .colab-df-spinner {\n",
              "    border: 2px solid var(--fill-color);\n",
              "    border-color: transparent;\n",
              "    border-bottom-color: var(--fill-color);\n",
              "    animation:\n",
              "      spin 1s steps(1) infinite;\n",
              "  }\n",
              "\n",
              "  @keyframes spin {\n",
              "    0% {\n",
              "      border-color: transparent;\n",
              "      border-bottom-color: var(--fill-color);\n",
              "      border-left-color: var(--fill-color);\n",
              "    }\n",
              "    20% {\n",
              "      border-color: transparent;\n",
              "      border-left-color: var(--fill-color);\n",
              "      border-top-color: var(--fill-color);\n",
              "    }\n",
              "    30% {\n",
              "      border-color: transparent;\n",
              "      border-left-color: var(--fill-color);\n",
              "      border-top-color: var(--fill-color);\n",
              "      border-right-color: var(--fill-color);\n",
              "    }\n",
              "    40% {\n",
              "      border-color: transparent;\n",
              "      border-right-color: var(--fill-color);\n",
              "      border-top-color: var(--fill-color);\n",
              "    }\n",
              "    60% {\n",
              "      border-color: transparent;\n",
              "      border-right-color: var(--fill-color);\n",
              "    }\n",
              "    80% {\n",
              "      border-color: transparent;\n",
              "      border-right-color: var(--fill-color);\n",
              "      border-bottom-color: var(--fill-color);\n",
              "    }\n",
              "    90% {\n",
              "      border-color: transparent;\n",
              "      border-bottom-color: var(--fill-color);\n",
              "    }\n",
              "  }\n",
              "</style>\n",
              "\n",
              "  <script>\n",
              "    async function quickchart(key) {\n",
              "      const quickchartButtonEl =\n",
              "        document.querySelector('#' + key + ' button');\n",
              "      quickchartButtonEl.disabled = true;  // To prevent multiple clicks.\n",
              "      quickchartButtonEl.classList.add('colab-df-spinner');\n",
              "      try {\n",
              "        const charts = await google.colab.kernel.invokeFunction(\n",
              "            'suggestCharts', [key], {});\n",
              "      } catch (error) {\n",
              "        console.error('Error during call to suggestCharts:', error);\n",
              "      }\n",
              "      quickchartButtonEl.classList.remove('colab-df-spinner');\n",
              "      quickchartButtonEl.classList.add('colab-df-quickchart-complete');\n",
              "    }\n",
              "    (() => {\n",
              "      let quickchartButtonEl =\n",
              "        document.querySelector('#df-a17c5bbc-82b5-4a26-8428-9e7c6cbfabcd button');\n",
              "      quickchartButtonEl.style.display =\n",
              "        google.colab.kernel.accessAllowed ? 'block' : 'none';\n",
              "    })();\n",
              "  </script>\n",
              "</div>\n",
              "    </div>\n",
              "  </div>\n"
            ],
            "application/vnd.google.colaboratory.intrinsic+json": {
              "type": "dataframe",
              "variable_name": "df",
              "summary": "{\n  \"name\": \"df\",\n  \"rows\": 6,\n  \"fields\": [\n    {\n      \"column\": 0,\n      \"properties\": {\n        \"dtype\": \"number\",\n        \"std\": 91.77442903062811,\n        \"min\": 1.1614,\n        \"max\": 193.030982844,\n        \"num_unique_values\": 6,\n        \"samples\": [\n          193.030982844,\n          186.17499999999998,\n          4.0\n        ],\n        \"semantic_type\": \"\",\n        \"description\": \"\"\n      }\n    }\n  ]\n}"
            }
          },
          "metadata": {},
          "execution_count": 5
        }
      ]
    },
    {
      "cell_type": "markdown",
      "source": [
        "#### Conformère avec rdkit"
      ],
      "metadata": {
        "id": "0PJfnGgQUhyJ"
      }
    },
    {
      "cell_type": "code",
      "source": [
        "AllChem.EmbedMolecule(mole)\n",
        "mole"
      ],
      "metadata": {
        "colab": {
          "base_uri": "https://localhost:8080/",
          "height": 167
        },
        "id": "l63diDrrbFcr",
        "outputId": "6942aa45-b62b-43dd-ca2b-d657cc3c3329"
      },
      "execution_count": 6,
      "outputs": [
        {
          "output_type": "execute_result",
          "data": {
            "text/plain": [
              "<rdkit.Chem.rdchem.Mol at 0x7c79040c2500>"
            ],
            "image/png": "[encoded data removed]"
          },
          "metadata": {},
          "execution_count": 6
        }
      ]
    },
    {
      "cell_type": "markdown",
      "source": [
        "#### Générer les coordonnées XYZ de la molécule non optimisée\n"
      ],
      "metadata": {
        "id": "bTzFbfGDUmly"
      }
    },
    {
      "cell_type": "code",
      "source": [
        "block=Chem.MolToXYZBlock(mole)\n",
        "blocklines='\\n'.join(block.strip().split('\\n')[1:])\n",
        "print(blocklines)"
      ],
      "metadata": {
        "colab": {
          "base_uri": "https://localhost:8080/"
        },
        "id": "Bu-cJEN5bFOR",
        "outputId": "0854765f-f0b0-4f43-f9d9-634d41b797a8"
      },
      "execution_count": 7,
      "outputs": [
        {
          "output_type": "stream",
          "name": "stdout",
          "text": [
            "\n",
            "N      0.159409   -1.621804   -0.479129\n",
            "C     -0.013453   -0.263178   -0.140939\n",
            "C      1.055264    0.599435   -0.159120\n",
            "C      2.407269    0.127057   -0.463238\n",
            "C      2.828495   -1.082919   -0.247556\n",
            "C      0.969625    1.952154    0.133641\n",
            "O      1.978375    2.686836    0.099406\n",
            "N     -0.253016    2.447240    0.459049\n",
            "C     -1.315389    1.619319    0.484146\n",
            "S     -3.079570    1.904468    0.866606\n",
            "N     -3.536838    0.202055    0.601406\n",
            "C     -2.448304   -0.462102    0.265278\n",
            "C     -1.296685    0.217226    0.193118\n",
            "H      0.499067   -1.953154   -1.421207\n",
            "H     -0.075513   -2.328055    0.280775\n",
            "H      3.084664    0.861862   -0.908237\n",
            "H      3.870210   -1.314386   -0.522523\n",
            "H      2.275097   -1.878083    0.183571\n",
            "H     -4.555369   -0.155663    0.715097\n",
            "H     -2.553339   -1.558307    0.059854\n"
          ]
        }
      ]
    },
    {
      "cell_type": "markdown",
      "source": [
        "#### Visualiser en 3D la molécule non optimisée"
      ],
      "metadata": {
        "id": "S8vKCLk_U8Np"
      }
    },
    {
      "cell_type": "code",
      "source": [
        "pip install py3Dmol"
      ],
      "metadata": {
        "colab": {
          "base_uri": "https://localhost:8080/"
        },
        "id": "p9YGCn-xaq6s",
        "outputId": "20b6fb1c-8061-4ef9-b15d-40da113da7b4"
      },
      "execution_count": 8,
      "outputs": [
        {
          "output_type": "stream",
          "name": "stdout",
          "text": [
            "Requirement already satisfied: py3Dmol in /usr/local/lib/python3.10/dist-packages (2.1.0)\n"
          ]
        }
      ]
    },
    {
      "cell_type": "code",
      "source": [
        "import py3Dmol\n",
        "\n",
        "py3Dmol.__version__"
      ],
      "metadata": {
        "colab": {
          "base_uri": "https://localhost:8080/",
          "height": 35
        },
        "id": "PkMOKD_qaxsE",
        "outputId": "69f5f057-3a0f-43b1-c882-c8eb114fb8fd"
      },
      "execution_count": 9,
      "outputs": [
        {
          "output_type": "execute_result",
          "data": {
            "text/plain": [
              "'2.1.0'"
            ],
            "application/vnd.google.colaboratory.intrinsic+json": {
              "type": "string"
            }
          },
          "metadata": {},
          "execution_count": 9
        }
      ]
    },
    {
      "cell_type": "code",
      "source": [
        "def view3D(mole, label, fmt='mole'):\n",
        "        \"\"\"3D vizualisation of mol/xyz file with Py3DMol\n",
        "        \"\"\"\n",
        "\n",
        "        view = py3Dmol.view(width=400, height=400)\n",
        "\n",
        "        if fmt=='mole':\n",
        "            view.addModel(Chem.MolToMolBlock(mole), fmt)\n",
        "            # view.addModel(mol, fmt)\n",
        "        elif fmt=='xyz':\n",
        "            view.addModel(mole, fmt)\n",
        "\n",
        "        view.setStyle({'stick': {}, 'sphere': {'scale': .30}})\n",
        "        view.addLabel(label, {'position': {'x': -2, 'y': -3, 'z': 0}})\n",
        "\n",
        "        view.zoomTo()\n",
        "        view.show()\n",
        "\n",
        "view3D(mole, f'{smi_key} RDKit Molecule')"
      ],
      "metadata": {
        "colab": {
          "base_uri": "https://localhost:8080/",
          "height": 417
        },
        "id": "qI1HxIvra3eU",
        "outputId": "2d8bbe01-bdfe-479c-acbc-649a63d29f7f"
      },
      "execution_count": 10,
      "outputs": [
        {
          "output_type": "display_data",
          "data": {
            "application/3dmoljs_load.v0": "<div id=\"3dmolviewer_1717155585386279\"  style=\"position: relative; width: 400px; height: 400px;\">\n        <p id=\"3dmolwarning_1717155585386279\" style=\"background-color:#ffcccc;color:black\">3Dmol.js failed to load for some reason.  Please check your browser console for error messages.<br></p>\n        </div>\n<script>\n\nvar loadScriptAsync = function(uri){\n  return new Promise((resolve, reject) => {\n    //this is to ignore the existence of requirejs amd\n    var savedexports, savedmodule;\n    if (typeof exports !== 'undefined') savedexports = exports;\n    else exports = {}\n    if (typeof module !== 'undefined') savedmodule = module;\n    else module = {}\n\n    var tag = document.createElement('script');\n    tag.src = uri;\n    tag.async = true;\n    tag.onload = () => {\n        exports = savedexports;\n        module = savedmodule;\n        resolve();\n    };\n  var firstScriptTag = document.getElementsByTagName('script')[0];\n  firstScriptTag.parentNode.insertBefore(tag, firstScriptTag);\n});\n};\n\nif(typeof $3Dmolpromise === 'undefined') {\n$3Dmolpromise = null;\n  $3Dmolpromise = loadScriptAsync('https://cdnjs.cloudflare.com/ajax/libs/3Dmol/2.1.0/3Dmol-min.js');\n}\n\nvar viewer_1717155585386279 = null;\nvar warn = document.getElementById(\"3dmolwarning_1717155585386279\");\nif(warn) {\n    warn.parentNode.removeChild(warn);\n}\n$3Dmolpromise.then(function() {\nviewer_1717155585386279 = $3Dmol.createViewer(document.getElementById(\"3dmolviewer_1717155585386279\"),{backgroundColor:\"white\"});\nviewer_1717155585386279.zoomTo();\n\tviewer_1717155585386279.addModel(\"\\n     RDKit          3D\\n\\n 20 21  0  0  0  0  0  0  0  0999 V2000\\n    0.1594   -1.6218   -0.4791 N   0  0  0  0  0  0  0  0  0  0  0  0\\n   -0.0135   -0.2632   -0.1409 C   0  0  0  0  0  0  0  0  0  0  0  0\\n    1.0553    0.5994   -0.1591 C   0  0  0  0  0  0  0  0  0  0  0  0\\n    2.4073    0.1271   -0.4632 C   0  0  0  0  0  0  0  0  0  0  0  0\\n    2.8285   -1.0829   -0.2476 C   0  0  0  0  0  0  0  0  0  0  0  0\\n    0.9696    1.9522    0.1336 C   0  0  0  0  0  0  0  0  0  0  0  0\\n    1.9784    2.6868    0.0994 O   0  0  0  0  0  0  0  0  0  0  0  0\\n   -0.2530    2.4472    0.4590 N   0  0  0  0  0  0  0  0  0  0  0  0\\n   -1.3154    1.6193    0.4841 C   0  0  0  0  0  0  0  0  0  0  0  0\\n   -3.0796    1.9045    0.8666 S   0  0  0  0  0  0  0  0  0  0  0  0\\n   -3.5368    0.2021    0.6014 N   0  0  0  0  0  0  0  0  0  0  0  0\\n   -2.4483   -0.4621    0.2653 C   0  0  0  0  0  0  0  0  0  0  0  0\\n   -1.2967    0.2172    0.1931 C   0  0  0  0  0  0  0  0  0  0  0  0\\n    0.4991   -1.9532   -1.4212 H   0  0  0  0  0  0  0  0  0  0  0  0\\n   -0.0755   -2.3281    0.2808 H   0  0  0  0  0  0  0  0  0  0  0  0\\n    3.0847    0.8619   -0.9082 H   0  0  0  0  0  0  0  0  0  0  0  0\\n    3.8702   -1.3144   -0.5225 H   0  0  0  0  0  0  0  0  0  0  0  0\\n    2.2751   -1.8781    0.1836 H   0  0  0  0  0  0  0  0  0  0  0  0\\n   -4.5554   -0.1557    0.7151 H   0  0  0  0  0  0  0  0  0  0  0  0\\n   -2.5533   -1.5583    0.0599 H   0  0  0  0  0  0  0  0  0  0  0  0\\n  1  2  1  0\\n  2  3  2  0\\n  3  4  1  0\\n  4  5  2  0\\n  3  6  1  0\\n  6  7  2  0\\n  6  8  1  0\\n  8  9  2  0\\n  9 10  1  0\\n 10 11  1  0\\n 11 12  1  0\\n 12 13  2  0\\n 13  2  1  0\\n 13  9  1  0\\n  1 14  1  0\\n  1 15  1  0\\n  4 16  1  0\\n  5 17  1  0\\n  5 18  1  0\\n 11 19  1  0\\n 12 20  1  0\\nM  END\\n\",\"mole\");\n\tviewer_1717155585386279.setStyle({\"stick\": {}, \"sphere\": {\"scale\": 0.3}});\n\tviewer_1717155585386279.addLabel(\"Mol1 RDKit Molecule\",{\"position\": {\"x\": -2, \"y\": -3, \"z\": 0}});\n\tviewer_1717155585386279.zoomTo();\nviewer_1717155585386279.render();\n});\n</script>",
            "text/html": [
              "<div id=\"3dmolviewer_1717155585386279\"  style=\"position: relative; width: 400px; height: 400px;\">\n",
              "        <p id=\"3dmolwarning_1717155585386279\" style=\"background-color:#ffcccc;color:black\">3Dmol.js failed to load for some reason.  Please check your browser console for error messages.<br></p>\n",
              "        </div>\n",
              "<script>\n",
              "\n",
              "var loadScriptAsync = function(uri){\n",
              "  return new Promise((resolve, reject) => {\n",
              "    //this is to ignore the existence of requirejs amd\n",
              "    var savedexports, savedmodule;\n",
              "    if (typeof exports !== 'undefined') savedexports = exports;\n",
              "    else exports = {}\n",
              "    if (typeof module !== 'undefined') savedmodule = module;\n",
              "    else module = {}\n",
              "\n",
              "    var tag = document.createElement('script');\n",
              "    tag.src = uri;\n",
              "    tag.async = true;\n",
              "    tag.onload = () => {\n",
              "        exports = savedexports;\n",
              "        module = savedmodule;\n",
              "        resolve();\n",
              "    };\n",
              "  var firstScriptTag = document.getElementsByTagName('script')[0];\n",
              "  firstScriptTag.parentNode.insertBefore(tag, firstScriptTag);\n",
              "});\n",
              "};\n",
              "\n",
              "if(typeof $3Dmolpromise === 'undefined') {\n",
              "$3Dmolpromise = null;\n",
              "  $3Dmolpromise = loadScriptAsync('https://cdnjs.cloudflare.com/ajax/libs/3Dmol/2.1.0/3Dmol-min.js');\n",
              "}\n",
              "\n",
              "var viewer_1717155585386279 = null;\n",
              "var warn = document.getElementById(\"3dmolwarning_1717155585386279\");\n",
              "if(warn) {\n",
              "    warn.parentNode.removeChild(warn);\n",
              "}\n",
              "$3Dmolpromise.then(function() {\n",
              "viewer_1717155585386279 = $3Dmol.createViewer(document.getElementById(\"3dmolviewer_1717155585386279\"),{backgroundColor:\"white\"});\n",
              "viewer_1717155585386279.zoomTo();\n",
              "\tviewer_1717155585386279.addModel(\"\\n     RDKit          3D\\n\\n 20 21  0  0  0  0  0  0  0  0999 V2000\\n    0.1594   -1.6218   -0.4791 N   0  0  0  0  0  0  0  0  0  0  0  0\\n   -0.0135   -0.2632   -0.1409 C   0  0  0  0  0  0  0  0  0  0  0  0\\n    1.0553    0.5994   -0.1591 C   0  0  0  0  0  0  0  0  0  0  0  0\\n    2.4073    0.1271   -0.4632 C   0  0  0  0  0  0  0  0  0  0  0  0\\n    2.8285   -1.0829   -0.2476 C   0  0  0  0  0  0  0  0  0  0  0  0\\n    0.9696    1.9522    0.1336 C   0  0  0  0  0  0  0  0  0  0  0  0\\n    1.9784    2.6868    0.0994 O   0  0  0  0  0  0  0  0  0  0  0  0\\n   -0.2530    2.4472    0.4590 N   0  0  0  0  0  0  0  0  0  0  0  0\\n   -1.3154    1.6193    0.4841 C   0  0  0  0  0  0  0  0  0  0  0  0\\n   -3.0796    1.9045    0.8666 S   0  0  0  0  0  0  0  0  0  0  0  0\\n   -3.5368    0.2021    0.6014 N   0  0  0  0  0  0  0  0  0  0  0  0\\n   -2.4483   -0.4621    0.2653 C   0  0  0  0  0  0  0  0  0  0  0  0\\n   -1.2967    0.2172    0.1931 C   0  0  0  0  0  0  0  0  0  0  0  0\\n    0.4991   -1.9532   -1.4212 H   0  0  0  0  0  0  0  0  0  0  0  0\\n   -0.0755   -2.3281    0.2808 H   0  0  0  0  0  0  0  0  0  0  0  0\\n    3.0847    0.8619   -0.9082 H   0  0  0  0  0  0  0  0  0  0  0  0\\n    3.8702   -1.3144   -0.5225 H   0  0  0  0  0  0  0  0  0  0  0  0\\n    2.2751   -1.8781    0.1836 H   0  0  0  0  0  0  0  0  0  0  0  0\\n   -4.5554   -0.1557    0.7151 H   0  0  0  0  0  0  0  0  0  0  0  0\\n   -2.5533   -1.5583    0.0599 H   0  0  0  0  0  0  0  0  0  0  0  0\\n  1  2  1  0\\n  2  3  2  0\\n  3  4  1  0\\n  4  5  2  0\\n  3  6  1  0\\n  6  7  2  0\\n  6  8  1  0\\n  8  9  2  0\\n  9 10  1  0\\n 10 11  1  0\\n 11 12  1  0\\n 12 13  2  0\\n 13  2  1  0\\n 13  9  1  0\\n  1 14  1  0\\n  1 15  1  0\\n  4 16  1  0\\n  5 17  1  0\\n  5 18  1  0\\n 11 19  1  0\\n 12 20  1  0\\nM  END\\n\",\"mole\");\n",
              "\tviewer_1717155585386279.setStyle({\"stick\": {}, \"sphere\": {\"scale\": 0.3}});\n",
              "\tviewer_1717155585386279.addLabel(\"Mol1 RDKit Molecule\",{\"position\": {\"x\": -2, \"y\": -3, \"z\": 0}});\n",
              "\tviewer_1717155585386279.zoomTo();\n",
              "viewer_1717155585386279.render();\n",
              "});\n",
              "</script>"
            ]
          },
          "metadata": {}
        }
      ]
    },
    {
      "cell_type": "markdown",
      "source": [
        "#### Optimisation"
      ],
      "metadata": {
        "id": "rfcGyqaHbYgv"
      }
    },
    {
      "cell_type": "code",
      "source": [
        "AllChem.MMFFOptimizeMolecule(mole)"
      ],
      "metadata": {
        "colab": {
          "base_uri": "https://localhost:8080/"
        },
        "id": "yaPqcksAbV9Y",
        "outputId": "be5ba176-c2a9-4e37-c543-f0dc26b671d5"
      },
      "execution_count": 11,
      "outputs": [
        {
          "output_type": "execute_result",
          "data": {
            "text/plain": [
              "0"
            ]
          },
          "metadata": {},
          "execution_count": 11
        }
      ]
    },
    {
      "cell_type": "markdown",
      "source": [
        "On conclut que notre smile etait déjà optimisé"
      ],
      "metadata": {
        "id": "-OlW-pNUVF7l"
      }
    },
    {
      "cell_type": "markdown",
      "source": [
        "#### Générer les coordonnées XYZ de la molécule optimisée"
      ],
      "metadata": {
        "id": "UYbUplokVMtH"
      }
    },
    {
      "cell_type": "code",
      "source": [
        "block1=Chem.MolToXYZBlock(mole)\n",
        "blocklines1='\\n'.join(block1.strip().split('\\n')[1:])\n",
        "print(blocklines1)"
      ],
      "metadata": {
        "colab": {
          "base_uri": "https://localhost:8080/"
        },
        "id": "IvjUvGW5bki4",
        "outputId": "d662730c-416f-46a5-ef98-7746fa55912e"
      },
      "execution_count": 12,
      "outputs": [
        {
          "output_type": "stream",
          "name": "stdout",
          "text": [
            "\n",
            "N     -0.131786   -1.694595   -0.793748\n",
            "C     -0.067553   -0.401745   -0.284300\n",
            "C      1.013150    0.417313   -0.330942\n",
            "C      2.294832    0.022045   -0.913748\n",
            "C      3.044917   -1.011483   -0.507013\n",
            "C      0.933291    1.858804    0.187689\n",
            "O      1.909292    2.594086    0.063551\n",
            "N     -0.228277    2.305600    0.776887\n",
            "C     -1.221639    1.500274    0.828124\n",
            "S     -2.796161    1.915217    1.485943\n",
            "N     -3.424084    0.381962    1.196931\n",
            "C     -2.483803   -0.372150    0.527136\n",
            "C     -1.255106    0.123182    0.331067\n",
            "H      0.774190   -2.058185   -1.083423\n",
            "H     -0.602211   -2.346823   -0.170419\n",
            "H      2.677146    0.686236   -1.688565\n",
            "H      4.009347   -1.202915   -0.968897\n",
            "H      2.743503   -1.663500    0.306660\n",
            "H     -4.376426    0.296565    0.842616\n",
            "H     -2.812621   -1.349888    0.194452\n"
          ]
        }
      ]
    },
    {
      "cell_type": "markdown",
      "source": [
        "Nous constatons que les coordonnées sont différentes de celle obtenue\n",
        "lorsque la molécule n'était pas encore optimisée"
      ],
      "metadata": {
        "id": "n9bSH0TRVX1N"
      }
    },
    {
      "cell_type": "markdown",
      "source": [
        "#### Visualiser en 3D la molécule optimisée"
      ],
      "metadata": {
        "id": "DIZVzJenVjd-"
      }
    },
    {
      "cell_type": "code",
      "source": [
        "view3D(mole, f'{smi_key} RDKit Molecule')"
      ],
      "metadata": {
        "colab": {
          "base_uri": "https://localhost:8080/",
          "height": 417
        },
        "id": "UJDoIdo3bgum",
        "outputId": "8d438979-d45d-47c3-dbc5-ceae7f086b37"
      },
      "execution_count": 13,
      "outputs": [
        {
          "output_type": "display_data",
          "data": {
            "application/3dmoljs_load.v0": "<div id=\"3dmolviewer_1717155595662918\"  style=\"position: relative; width: 400px; height: 400px;\">\n        <p id=\"3dmolwarning_1717155595662918\" style=\"background-color:#ffcccc;color:black\">3Dmol.js failed to load for some reason.  Please check your browser console for error messages.<br></p>\n        </div>\n<script>\n\nvar loadScriptAsync = function(uri){\n  return new Promise((resolve, reject) => {\n    //this is to ignore the existence of requirejs amd\n    var savedexports, savedmodule;\n    if (typeof exports !== 'undefined') savedexports = exports;\n    else exports = {}\n    if (typeof module !== 'undefined') savedmodule = module;\n    else module = {}\n\n    var tag = document.createElement('script');\n    tag.src = uri;\n    tag.async = true;\n    tag.onload = () => {\n        exports = savedexports;\n        module = savedmodule;\n        resolve();\n    };\n  var firstScriptTag = document.getElementsByTagName('script')[0];\n  firstScriptTag.parentNode.insertBefore(tag, firstScriptTag);\n});\n};\n\nif(typeof $3Dmolpromise === 'undefined') {\n$3Dmolpromise = null;\n  $3Dmolpromise = loadScriptAsync('https://cdnjs.cloudflare.com/ajax/libs/3Dmol/2.1.0/3Dmol-min.js');\n}\n\nvar viewer_1717155595662918 = null;\nvar warn = document.getElementById(\"3dmolwarning_1717155595662918\");\nif(warn) {\n    warn.parentNode.removeChild(warn);\n}\n$3Dmolpromise.then(function() {\nviewer_1717155595662918 = $3Dmol.createViewer(document.getElementById(\"3dmolviewer_1717155595662918\"),{backgroundColor:\"white\"});\nviewer_1717155595662918.zoomTo();\n\tviewer_1717155595662918.addModel(\"\\n     RDKit          3D\\n\\n 20 21  0  0  0  0  0  0  0  0999 V2000\\n   -0.1318   -1.6946   -0.7937 N   0  0  0  0  0  0  0  0  0  0  0  0\\n   -0.0676   -0.4017   -0.2843 C   0  0  0  0  0  0  0  0  0  0  0  0\\n    1.0131    0.4173   -0.3309 C   0  0  0  0  0  0  0  0  0  0  0  0\\n    2.2948    0.0220   -0.9137 C   0  0  0  0  0  0  0  0  0  0  0  0\\n    3.0449   -1.0115   -0.5070 C   0  0  0  0  0  0  0  0  0  0  0  0\\n    0.9333    1.8588    0.1877 C   0  0  0  0  0  0  0  0  0  0  0  0\\n    1.9093    2.5941    0.0636 O   0  0  0  0  0  0  0  0  0  0  0  0\\n   -0.2283    2.3056    0.7769 N   0  0  0  0  0  0  0  0  0  0  0  0\\n   -1.2216    1.5003    0.8281 C   0  0  0  0  0  0  0  0  0  0  0  0\\n   -2.7962    1.9152    1.4859 S   0  0  0  0  0  0  0  0  0  0  0  0\\n   -3.4241    0.3820    1.1969 N   0  0  0  0  0  0  0  0  0  0  0  0\\n   -2.4838   -0.3722    0.5271 C   0  0  0  0  0  0  0  0  0  0  0  0\\n   -1.2551    0.1232    0.3311 C   0  0  0  0  0  0  0  0  0  0  0  0\\n    0.7742   -2.0582   -1.0834 H   0  0  0  0  0  0  0  0  0  0  0  0\\n   -0.6022   -2.3468   -0.1704 H   0  0  0  0  0  0  0  0  0  0  0  0\\n    2.6771    0.6862   -1.6886 H   0  0  0  0  0  0  0  0  0  0  0  0\\n    4.0093   -1.2029   -0.9689 H   0  0  0  0  0  0  0  0  0  0  0  0\\n    2.7435   -1.6635    0.3067 H   0  0  0  0  0  0  0  0  0  0  0  0\\n   -4.3764    0.2966    0.8426 H   0  0  0  0  0  0  0  0  0  0  0  0\\n   -2.8126   -1.3499    0.1945 H   0  0  0  0  0  0  0  0  0  0  0  0\\n  1  2  1  0\\n  2  3  2  0\\n  3  4  1  0\\n  4  5  2  0\\n  3  6  1  0\\n  6  7  2  0\\n  6  8  1  0\\n  8  9  2  0\\n  9 10  1  0\\n 10 11  1  0\\n 11 12  1  0\\n 12 13  2  0\\n 13  2  1  0\\n 13  9  1  0\\n  1 14  1  0\\n  1 15  1  0\\n  4 16  1  0\\n  5 17  1  0\\n  5 18  1  0\\n 11 19  1  0\\n 12 20  1  0\\nM  END\\n\",\"mole\");\n\tviewer_1717155595662918.setStyle({\"stick\": {}, \"sphere\": {\"scale\": 0.3}});\n\tviewer_1717155595662918.addLabel(\"Mol1 RDKit Molecule\",{\"position\": {\"x\": -2, \"y\": -3, \"z\": 0}});\n\tviewer_1717155595662918.zoomTo();\nviewer_1717155595662918.render();\n});\n</script>",
            "text/html": [
              "<div id=\"3dmolviewer_1717155595662918\"  style=\"position: relative; width: 400px; height: 400px;\">\n",
              "        <p id=\"3dmolwarning_1717155595662918\" style=\"background-color:#ffcccc;color:black\">3Dmol.js failed to load for some reason.  Please check your browser console for error messages.<br></p>\n",
              "        </div>\n",
              "<script>\n",
              "\n",
              "var loadScriptAsync = function(uri){\n",
              "  return new Promise((resolve, reject) => {\n",
              "    //this is to ignore the existence of requirejs amd\n",
              "    var savedexports, savedmodule;\n",
              "    if (typeof exports !== 'undefined') savedexports = exports;\n",
              "    else exports = {}\n",
              "    if (typeof module !== 'undefined') savedmodule = module;\n",
              "    else module = {}\n",
              "\n",
              "    var tag = document.createElement('script');\n",
              "    tag.src = uri;\n",
              "    tag.async = true;\n",
              "    tag.onload = () => {\n",
              "        exports = savedexports;\n",
              "        module = savedmodule;\n",
              "        resolve();\n",
              "    };\n",
              "  var firstScriptTag = document.getElementsByTagName('script')[0];\n",
              "  firstScriptTag.parentNode.insertBefore(tag, firstScriptTag);\n",
              "});\n",
              "};\n",
              "\n",
              "if(typeof $3Dmolpromise === 'undefined') {\n",
              "$3Dmolpromise = null;\n",
              "  $3Dmolpromise = loadScriptAsync('https://cdnjs.cloudflare.com/ajax/libs/3Dmol/2.1.0/3Dmol-min.js');\n",
              "}\n",
              "\n",
              "var viewer_1717155595662918 = null;\n",
              "var warn = document.getElementById(\"3dmolwarning_1717155595662918\");\n",
              "if(warn) {\n",
              "    warn.parentNode.removeChild(warn);\n",
              "}\n",
              "$3Dmolpromise.then(function() {\n",
              "viewer_1717155595662918 = $3Dmol.createViewer(document.getElementById(\"3dmolviewer_1717155595662918\"),{backgroundColor:\"white\"});\n",
              "viewer_1717155595662918.zoomTo();\n",
              "\tviewer_1717155595662918.addModel(\"\\n     RDKit          3D\\n\\n 20 21  0  0  0  0  0  0  0  0999 V2000\\n   -0.1318   -1.6946   -0.7937 N   0  0  0  0  0  0  0  0  0  0  0  0\\n   -0.0676   -0.4017   -0.2843 C   0  0  0  0  0  0  0  0  0  0  0  0\\n    1.0131    0.4173   -0.3309 C   0  0  0  0  0  0  0  0  0  0  0  0\\n    2.2948    0.0220   -0.9137 C   0  0  0  0  0  0  0  0  0  0  0  0\\n    3.0449   -1.0115   -0.5070 C   0  0  0  0  0  0  0  0  0  0  0  0\\n    0.9333    1.8588    0.1877 C   0  0  0  0  0  0  0  0  0  0  0  0\\n    1.9093    2.5941    0.0636 O   0  0  0  0  0  0  0  0  0  0  0  0\\n   -0.2283    2.3056    0.7769 N   0  0  0  0  0  0  0  0  0  0  0  0\\n   -1.2216    1.5003    0.8281 C   0  0  0  0  0  0  0  0  0  0  0  0\\n   -2.7962    1.9152    1.4859 S   0  0  0  0  0  0  0  0  0  0  0  0\\n   -3.4241    0.3820    1.1969 N   0  0  0  0  0  0  0  0  0  0  0  0\\n   -2.4838   -0.3722    0.5271 C   0  0  0  0  0  0  0  0  0  0  0  0\\n   -1.2551    0.1232    0.3311 C   0  0  0  0  0  0  0  0  0  0  0  0\\n    0.7742   -2.0582   -1.0834 H   0  0  0  0  0  0  0  0  0  0  0  0\\n   -0.6022   -2.3468   -0.1704 H   0  0  0  0  0  0  0  0  0  0  0  0\\n    2.6771    0.6862   -1.6886 H   0  0  0  0  0  0  0  0  0  0  0  0\\n    4.0093   -1.2029   -0.9689 H   0  0  0  0  0  0  0  0  0  0  0  0\\n    2.7435   -1.6635    0.3067 H   0  0  0  0  0  0  0  0  0  0  0  0\\n   -4.3764    0.2966    0.8426 H   0  0  0  0  0  0  0  0  0  0  0  0\\n   -2.8126   -1.3499    0.1945 H   0  0  0  0  0  0  0  0  0  0  0  0\\n  1  2  1  0\\n  2  3  2  0\\n  3  4  1  0\\n  4  5  2  0\\n  3  6  1  0\\n  6  7  2  0\\n  6  8  1  0\\n  8  9  2  0\\n  9 10  1  0\\n 10 11  1  0\\n 11 12  1  0\\n 12 13  2  0\\n 13  2  1  0\\n 13  9  1  0\\n  1 14  1  0\\n  1 15  1  0\\n  4 16  1  0\\n  5 17  1  0\\n  5 18  1  0\\n 11 19  1  0\\n 12 20  1  0\\nM  END\\n\",\"mole\");\n",
              "\tviewer_1717155595662918.setStyle({\"stick\": {}, \"sphere\": {\"scale\": 0.3}});\n",
              "\tviewer_1717155595662918.addLabel(\"Mol1 RDKit Molecule\",{\"position\": {\"x\": -2, \"y\": -3, \"z\": 0}});\n",
              "\tviewer_1717155595662918.zoomTo();\n",
              "viewer_1717155595662918.render();\n",
              "});\n",
              "</script>"
            ]
          },
          "metadata": {}
        }
      ]
    },
    {
      "cell_type": "markdown",
      "source": [
        "Ces représentations en 3D sont identques"
      ],
      "metadata": {
        "id": "k1A29yqnVqw1"
      }
    },
    {
      "cell_type": "markdown",
      "source": [
        "#### Construction de l'objet moléculaire pyscf"
      ],
      "metadata": {
        "id": "ilnhUzN6V0hk"
      }
    },
    {
      "cell_type": "code",
      "source": [
        "pip install pyscf"
      ],
      "metadata": {
        "colab": {
          "base_uri": "https://localhost:8080/"
        },
        "id": "lAE1oJ__byKi",
        "outputId": "63fa4e46-6745-4558-95ec-3e42a67bc7d5"
      },
      "execution_count": 14,
      "outputs": [
        {
          "output_type": "stream",
          "name": "stdout",
          "text": [
            "Requirement already satisfied: pyscf in /usr/local/lib/python3.10/dist-packages (2.5.0)\n",
            "Requirement already satisfied: numpy!=1.16,!=1.17,>=1.13 in /usr/local/lib/python3.10/dist-packages (from pyscf) (1.25.2)\n",
            "Requirement already satisfied: scipy!=1.5.0,!=1.5.1 in /usr/local/lib/python3.10/dist-packages (from pyscf) (1.11.4)\n",
            "Requirement already satisfied: h5py>=2.7 in /usr/local/lib/python3.10/dist-packages (from pyscf) (3.9.0)\n",
            "Requirement already satisfied: setuptools in /usr/local/lib/python3.10/dist-packages (from pyscf) (67.7.2)\n"
          ]
        }
      ]
    },
    {
      "cell_type": "code",
      "source": [
        "import pyscf\n",
        "\n",
        "pyscf.__version__"
      ],
      "metadata": {
        "colab": {
          "base_uri": "https://localhost:8080/",
          "height": 35
        },
        "id": "mZf8PwtMb_7D",
        "outputId": "a0d8c581-a01b-4e5f-8bab-7cd71de773f3"
      },
      "execution_count": 15,
      "outputs": [
        {
          "output_type": "execute_result",
          "data": {
            "text/plain": [
              "'2.5.0'"
            ],
            "application/vnd.google.colaboratory.intrinsic+json": {
              "type": "string"
            }
          },
          "metadata": {},
          "execution_count": 15
        }
      ]
    },
    {
      "cell_type": "code",
      "source": [
        "from pyscf import gto, scf, dft, tddft\n",
        "\n",
        "mol=gto.Mole()\n",
        "mol.atom= blocklines1\n",
        "mol.unit='AU'\n",
        "mol.basis='6-31G*'\n",
        "mol.symmetry=True\n",
        "mol.build()"
      ],
      "metadata": {
        "colab": {
          "base_uri": "https://localhost:8080/"
        },
        "id": "OHEPNq7rcERa",
        "outputId": "15ec00f2-fd6c-4a69-d4c7-3c2fca91c205"
      },
      "execution_count": 16,
      "outputs": [
        {
          "output_type": "execute_result",
          "data": {
            "text/plain": [
              "<pyscf.gto.mole.Mole at 0x7c78f78ebf70>"
            ]
          },
          "metadata": {},
          "execution_count": 16
        }
      ]
    },
    {
      "cell_type": "markdown",
      "source": [
        "#### Calcul de l'énergie de convergence ou totale en utilisant la DFT"
      ],
      "metadata": {
        "id": "DJvXRa_WV9IY"
      }
    },
    {
      "cell_type": "code",
      "source": [
        "mf = dft.RKS(mol)\n",
        "mf.xc = 'b3lyp'\n",
        "mf.kernel()"
      ],
      "metadata": {
        "colab": {
          "base_uri": "https://localhost:8080/"
        },
        "id": "GNSlxFTgcKgy",
        "outputId": "eb35e338-b802-422d-cedf-d1cfe5f7094b"
      },
      "execution_count": 17,
      "outputs": [
        {
          "output_type": "stream",
          "name": "stderr",
          "text": [
            "/usr/local/lib/python3.10/dist-packages/pyscf/dft/libxc.py:1102: UserWarning: Since PySCF-2.3, B3LYP (and B3P86) are changed to the VWN-RPA variant, corresponding to the original definition by Stephens et al. (issue 1480) and the same as the B3LYP functional in Gaussian. To restore the VWN5 definition, you can put the setting \"B3LYP_WITH_VWN5 = True\" in pyscf_conf.py\n",
            "  warnings.warn('Since PySCF-2.3, B3LYP (and B3P86) are changed to the VWN-RPA variant, '\n"
          ]
        },
        {
          "output_type": "stream",
          "name": "stdout",
          "text": [
            "converged SCF energy = -916.130810983288\n"
          ]
        },
        {
          "output_type": "execute_result",
          "data": {
            "text/plain": [
              "-916.1308109832883"
            ]
          },
          "metadata": {},
          "execution_count": 17
        }
      ]
    },
    {
      "cell_type": "markdown",
      "source": [
        "#### Détails sur les différentes énergies calculées avec la DFT"
      ],
      "metadata": {
        "id": "n-XeopOUWLa6"
      }
    },
    {
      "cell_type": "code",
      "source": [
        "mf.scf_summary"
      ],
      "metadata": {
        "colab": {
          "base_uri": "https://localhost:8080/"
        },
        "id": "_GYSd5yCcOrZ",
        "outputId": "8cbde0a4-9b7d-426f-e8ac-24532bb7f52f"
      },
      "execution_count": 18,
      "outputs": [
        {
          "output_type": "execute_result",
          "data": {
            "text/plain": [
              "{'e1': -4416.13490305392,\n",
              " 'coul': 2004.137641688458,\n",
              " 'exc': -114.58821621320047,\n",
              " 'nuc': 1610.4546665953746}"
            ]
          },
          "metadata": {},
          "execution_count": 18
        }
      ]
    },
    {
      "cell_type": "markdown",
      "source": [
        "#### Détails complets sur mon calcul en utilisant la verbose"
      ],
      "metadata": {
        "id": "YRfkV-yBWYV9"
      }
    },
    {
      "cell_type": "code",
      "source": [
        "mf.analyze(verbose=4)"
      ],
      "metadata": {
        "colab": {
          "base_uri": "https://localhost:8080/"
        },
        "id": "_D46fUEQcuht",
        "outputId": "96351676-e5e0-495e-9f16-68e6ace5b4fe"
      },
      "execution_count": 19,
      "outputs": [
        {
          "output_type": "stream",
          "name": "stdout",
          "text": [
            "**** SCF Summaries ****\n",
            "Total Energy =                        -916.130810983288256\n",
            "Nuclear Repulsion Energy =            1610.454666595374647\n",
            "One-electron Energy =                -4416.134903053920425\n",
            "Two-electron Coulomb Energy =         2004.137641688457961\n",
            "DFT Exchange-Correlation Energy =     -114.588216213200468\n",
            "**** MO energy ****\n",
            "MO #1   energy= -88.7849841893273  occ= 2\n",
            "MO #2   energy= -19.1598508409622  occ= 2\n",
            "MO #3   energy= -14.4963525146889  occ= 2\n",
            "MO #4   energy= -14.3913851867046  occ= 2\n",
            "MO #5   energy= -14.3421702816678  occ= 2\n",
            "MO #6   energy= -10.5366442695263  occ= 2\n",
            "MO #7   energy= -10.528284490208   occ= 2\n",
            "MO #8   energy= -10.4692264566657  occ= 2\n",
            "MO #9   energy= -10.4553781798489  occ= 2\n",
            "MO #10  energy= -10.3491004905001  occ= 2\n",
            "MO #11  energy= -10.3009220579683  occ= 2\n",
            "MO #12  energy= -10.2391724942349  occ= 2\n",
            "MO #13  energy= -10.145914689224   occ= 2\n",
            "MO #14  energy= -8.09282374686489  occ= 2\n",
            "MO #15  energy= -6.05351126438803  occ= 2\n",
            "MO #16  energy= -6.03449485349804  occ= 2\n",
            "MO #17  energy= -5.9809762662503   occ= 2\n",
            "MO #18  energy= -1.73552295494182  occ= 2\n",
            "MO #19  energy= -1.64225789385307  occ= 2\n",
            "MO #20  energy= -1.47187138607194  occ= 2\n",
            "MO #21  energy= -1.44201594830246  occ= 2\n",
            "MO #22  energy= -1.31238061165478  occ= 2\n",
            "MO #23  energy= -1.27986643482071  occ= 2\n",
            "MO #24  energy= -1.23588581756197  occ= 2\n",
            "MO #25  energy= -1.2138409958324   occ= 2\n",
            "MO #26  energy= -1.12244950121599  occ= 2\n",
            "MO #27  energy= -1.03264890703663  occ= 2\n",
            "MO #28  energy= -0.965403487168733 occ= 2\n",
            "MO #29  energy= -0.937449466194714 occ= 2\n",
            "MO #30  energy= -0.89432309177691  occ= 2\n",
            "MO #31  energy= -0.869615393762137 occ= 2\n",
            "MO #32  energy= -0.759122454689118 occ= 2\n",
            "MO #33  energy= -0.749449117491542 occ= 2\n",
            "MO #34  energy= -0.680571559705555 occ= 2\n",
            "MO #35  energy= -0.645580603037367 occ= 2\n",
            "MO #36  energy= -0.586585759810783 occ= 2\n",
            "MO #37  energy= -0.548405254085193 occ= 2\n",
            "MO #38  energy= -0.537273920466854 occ= 2\n",
            "MO #39  energy= -0.479735744723417 occ= 2\n",
            "MO #40  energy= -0.466066784924719 occ= 2\n",
            "MO #41  energy= -0.435899274112799 occ= 2\n",
            "MO #42  energy= -0.392925757373363 occ= 2\n",
            "MO #43  energy= -0.384876397773437 occ= 2\n",
            "MO #44  energy= -0.358843554350401 occ= 2\n",
            "MO #45  energy= -0.262714714112452 occ= 2\n",
            "MO #46  energy= -0.236722506541732 occ= 2\n",
            "MO #47  energy= -0.20934437223592  occ= 2\n",
            "MO #48  energy= -0.164846243624565 occ= 2\n",
            "MO #49  energy= -0.0889171514992574 occ= 2\n",
            "MO #50  energy= -0.0423740289705569 occ= 2\n",
            "MO #51  energy= 0.00900126741442844 occ= 0\n",
            "MO #52  energy= 0.035946249211575  occ= 0\n",
            "MO #53  energy= 0.0790121732085127 occ= 0\n",
            "MO #54  energy= 0.132667643206168  occ= 0\n",
            "MO #55  energy= 0.141376862584813  occ= 0\n",
            "MO #56  energy= 0.154104495045353  occ= 0\n",
            "MO #57  energy= 0.175562500901229  occ= 0\n",
            "MO #58  energy= 0.192037300875376  occ= 0\n",
            "MO #59  energy= 0.21872537834074   occ= 0\n",
            "MO #60  energy= 0.240715033839255  occ= 0\n",
            "MO #61  energy= 0.263051104965051  occ= 0\n",
            "MO #62  energy= 0.271687083529887  occ= 0\n",
            "MO #63  energy= 0.288496368253509  occ= 0\n",
            "MO #64  energy= 0.311500845882765  occ= 0\n",
            "MO #65  energy= 0.320375875617691  occ= 0\n",
            "MO #66  energy= 0.33411677213606   occ= 0\n",
            "MO #67  energy= 0.355648135311762  occ= 0\n",
            "MO #68  energy= 0.361636336456018  occ= 0\n",
            "MO #69  energy= 0.395494683767026  occ= 0\n",
            "MO #70  energy= 0.417035118441249  occ= 0\n",
            "MO #71  energy= 0.433910513033566  occ= 0\n",
            "MO #72  energy= 0.451636412297991  occ= 0\n",
            "MO #73  energy= 0.462271744331098  occ= 0\n",
            "MO #74  energy= 0.472090038944919  occ= 0\n",
            "MO #75  energy= 0.50732991441482   occ= 0\n",
            "MO #76  energy= 0.508392131742922  occ= 0\n",
            "MO #77  energy= 0.547730280735992  occ= 0\n",
            "MO #78  energy= 0.557285651033432  occ= 0\n",
            "MO #79  energy= 0.617662918039902  occ= 0\n",
            "MO #80  energy= 0.648236064940245  occ= 0\n",
            "MO #81  energy= 0.657913422633418  occ= 0\n",
            "MO #82  energy= 0.668937457652717  occ= 0\n",
            "MO #83  energy= 0.683645044865364  occ= 0\n",
            "MO #84  energy= 0.703909275353442  occ= 0\n",
            "MO #85  energy= 0.731245063666317  occ= 0\n",
            "MO #86  energy= 0.752684993891328  occ= 0\n",
            "MO #87  energy= 0.769187374375562  occ= 0\n",
            "MO #88  energy= 0.783201777247596  occ= 0\n",
            "MO #89  energy= 0.796583083009902  occ= 0\n",
            "MO #90  energy= 0.814334450385993  occ= 0\n",
            "MO #91  energy= 0.829935615792212  occ= 0\n",
            "MO #92  energy= 0.855358474094756  occ= 0\n",
            "MO #93  energy= 0.88115565107256   occ= 0\n",
            "MO #94  energy= 0.913388411876232  occ= 0\n",
            "MO #95  energy= 0.935371907720089  occ= 0\n",
            "MO #96  energy= 0.948470392793789  occ= 0\n",
            "MO #97  energy= 0.960615359079505  occ= 0\n",
            "MO #98  energy= 0.978742962191404  occ= 0\n",
            "MO #99  energy= 0.980868839526609  occ= 0\n",
            "MO #100 energy= 1.01314227899173   occ= 0\n",
            "MO #101 energy= 1.027600550804     occ= 0\n",
            "MO #102 energy= 1.04529073051809   occ= 0\n",
            "MO #103 energy= 1.06559000301318   occ= 0\n",
            "MO #104 energy= 1.10945949164903   occ= 0\n",
            "MO #105 energy= 1.13611148401605   occ= 0\n",
            "MO #106 energy= 1.15455259867297   occ= 0\n",
            "MO #107 energy= 1.19293956943111   occ= 0\n",
            "MO #108 energy= 1.21012019510271   occ= 0\n",
            "MO #109 energy= 1.24482508291899   occ= 0\n",
            "MO #110 energy= 1.26124912493159   occ= 0\n",
            "MO #111 energy= 1.28894491066799   occ= 0\n",
            "MO #112 energy= 1.29524906348899   occ= 0\n",
            "MO #113 energy= 1.3448173993679    occ= 0\n",
            "MO #114 energy= 1.36465659832156   occ= 0\n",
            "MO #115 energy= 1.37944721874852   occ= 0\n",
            "MO #116 energy= 1.42363281843375   occ= 0\n",
            "MO #117 energy= 1.48490863625782   occ= 0\n",
            "MO #118 energy= 1.50565130762832   occ= 0\n",
            "MO #119 energy= 1.53245344126579   occ= 0\n",
            "MO #120 energy= 1.55925379454834   occ= 0\n",
            "MO #121 energy= 1.60249353601576   occ= 0\n",
            "MO #122 energy= 1.64174277909984   occ= 0\n",
            "MO #123 energy= 1.68486817268904   occ= 0\n",
            "MO #124 energy= 1.74005050620399   occ= 0\n",
            "MO #125 energy= 1.77250601357683   occ= 0\n",
            "MO #126 energy= 1.79146508034609   occ= 0\n",
            "MO #127 energy= 1.82434664092509   occ= 0\n",
            "MO #128 energy= 1.87778976205852   occ= 0\n",
            "MO #129 energy= 1.88949539670764   occ= 0\n",
            "MO #130 energy= 1.97989422426166   occ= 0\n",
            "MO #131 energy= 2.00364053707915   occ= 0\n",
            "MO #132 energy= 2.02069209910868   occ= 0\n",
            "MO #133 energy= 2.11666682806816   occ= 0\n",
            "MO #134 energy= 2.16067465183142   occ= 0\n",
            "MO #135 energy= 2.18429461977853   occ= 0\n",
            "MO #136 energy= 2.21240745673497   occ= 0\n",
            "MO #137 energy= 2.24930050978257   occ= 0\n",
            "MO #138 energy= 2.27774377756249   occ= 0\n",
            "MO #139 energy= 2.31280426263769   occ= 0\n",
            "MO #140 energy= 2.33880163665259   occ= 0\n",
            "MO #141 energy= 2.40081625533988   occ= 0\n",
            "MO #142 energy= 2.40670092277445   occ= 0\n",
            "MO #143 energy= 2.46367785068178   occ= 0\n",
            "MO #144 energy= 2.51012860703246   occ= 0\n",
            "MO #145 energy= 2.57886506265104   occ= 0\n",
            "MO #146 energy= 2.59458849912815   occ= 0\n",
            "MO #147 energy= 2.65381204794766   occ= 0\n",
            "MO #148 energy= 2.69647992863576   occ= 0\n",
            "MO #149 energy= 2.76032407947935   occ= 0\n",
            "MO #150 energy= 2.82042895514638   occ= 0\n",
            "MO #151 energy= 2.86934215554315   occ= 0\n",
            "MO #152 energy= 2.91384775663747   occ= 0\n",
            "MO #153 energy= 2.98651768815701   occ= 0\n",
            "MO #154 energy= 3.0683496854333    occ= 0\n",
            "MO #155 energy= 3.11516524669853   occ= 0\n",
            "MO #156 energy= 3.20324602374208   occ= 0\n",
            "MO #157 energy= 3.25223341871425   occ= 0\n",
            "MO #158 energy= 3.30578315660677   occ= 0\n",
            "MO #159 energy= 3.4081388957152    occ= 0\n",
            "MO #160 energy= 3.43628047636489   occ= 0\n",
            "MO #161 energy= 3.52729626897026   occ= 0\n",
            "MO #162 energy= 3.55563311020003   occ= 0\n",
            "MO #163 energy= 3.62179354410189   occ= 0\n",
            "MO #164 energy= 3.66637523218111   occ= 0\n",
            "MO #165 energy= 3.76307045438178   occ= 0\n",
            "MO #166 energy= 3.84594901764849   occ= 0\n",
            "MO #167 energy= 3.98320914024015   occ= 0\n",
            "MO #168 energy= 4.02447441635942   occ= 0\n",
            "MO #169 energy= 4.15974299009596   occ= 0\n",
            "MO #170 energy= 4.18377581813532   occ= 0\n",
            "MO #171 energy= 4.28493372632431   occ= 0\n",
            "MO #172 energy= 4.3270235916341    occ= 0\n",
            "MO #173 energy= 4.42969331075376   occ= 0\n",
            "MO #174 energy= 4.45379482031507   occ= 0\n",
            "MO #175 energy= 4.58131943169754   occ= 0\n",
            "MO #176 energy= 4.72809612161817   occ= 0\n",
            "MO #177 energy= 4.81914081997344   occ= 0\n",
            "MO #178 energy= 4.88833475291684   occ= 0\n",
            "MO #179 energy= 4.94592097566372   occ= 0\n",
            "MO #180 energy= 5.02385014054231   occ= 0\n",
            "MO #181 energy= 5.0435623308482    occ= 0\n",
            "MO #182 energy= 5.27887739662821   occ= 0\n",
            "MO #183 energy= 5.36897749017893   occ= 0\n",
            "MO #184 energy= 5.40036671127904   occ= 0\n",
            "MO #185 energy= 5.62328227096512   occ= 0\n",
            "MO #186 energy= 5.79182864482587   occ= 0\n",
            "MO #187 energy= 6.20899891141225   occ= 0\n",
            "MO #188 energy= 6.25332849610501   occ= 0\n",
            "MO #189 energy= 6.42138020571528   occ= 0\n",
            "MO #190 energy= 6.90499923796356   occ= 0\n",
            "MO #191 energy= 7.37673760910798   occ= 0\n",
            "MO #192 energy= 8.03759582017101   occ= 0\n",
            "MO #193 energy= 8.80679396671173   occ= 0\n",
            "MO #194 energy= 10.1718172301118   occ= 0\n",
            "MO #195 energy= 10.6183148099125   occ= 0\n",
            "MO #196 energy= 13.9800354977144   occ= 0\n",
            "MO #197 energy= 14.5084881687067   occ= 0\n",
            "MO #198 energy= 19.4136680060923   occ= 0\n",
            "MO #199 energy= 20.6527184149512   occ= 0\n",
            "MO #200 energy= 24.927516144629    occ= 0\n",
            " ** Mulliken pop on meta-lowdin orthogonal AOs  **\n",
            " ** Mulliken pop  **\n",
            "pop of  0 N 1s            1.99977\n",
            "pop of  0 N 2s            0.87689\n",
            "pop of  0 N 3s            0.01450\n",
            "pop of  0 N 2px           1.56902\n",
            "pop of  0 N 2py           1.43988\n",
            "pop of  0 N 2pz           1.61148\n",
            "pop of  0 N 3px           0.03332\n",
            "pop of  0 N 3py           0.03424\n",
            "pop of  0 N 3pz           0.04564\n",
            "pop of  0 N 3dxy          0.00276\n",
            "pop of  0 N 3dyz          0.00830\n",
            "pop of  0 N 3dz^2         0.01178\n",
            "pop of  0 N 3dxz          0.00996\n",
            "pop of  0 N 3dx2-y2       0.01007\n",
            "pop of  1 C 1s            1.99944\n",
            "pop of  1 C 2s            0.36878\n",
            "pop of  1 C 3s            0.02396\n",
            "pop of  1 C 2px           1.20638\n",
            "pop of  1 C 2py           1.15727\n",
            "pop of  1 C 2pz           1.00090\n",
            "pop of  1 C 3px           0.01585\n",
            "pop of  1 C 3py           0.01464\n",
            "pop of  1 C 3pz           0.04252\n",
            "pop of  1 C 3dxy          0.00162\n",
            "pop of  1 C 3dyz          0.00392\n",
            "pop of  1 C 3dz^2         0.00396\n",
            "pop of  1 C 3dxz          0.00282\n",
            "pop of  1 C 3dx2-y2       0.00223\n",
            "pop of  2 C 1s            1.99945\n",
            "pop of  2 C 2s            0.44722\n",
            "pop of  2 C 3s            0.02422\n",
            "pop of  2 C 2px           1.26310\n",
            "pop of  2 C 2py           1.24091\n",
            "pop of  2 C 2pz           1.10570\n",
            "pop of  2 C 3px           0.02121\n",
            "pop of  2 C 3py           0.02000\n",
            "pop of  2 C 3pz           0.05327\n",
            "pop of  2 C 3dxy          0.00352\n",
            "pop of  2 C 3dyz          0.00316\n",
            "pop of  2 C 3dz^2         0.00575\n",
            "pop of  2 C 3dxz          0.00509\n",
            "pop of  2 C 3dx2-y2       0.00259\n",
            "pop of  3 C 1s            1.99952\n",
            "pop of  3 C 2s            0.52407\n",
            "pop of  3 C 3s            0.01883\n",
            "pop of  3 C 2px           1.21670\n",
            "pop of  3 C 2py           1.20553\n",
            "pop of  3 C 2pz           1.18902\n",
            "pop of  3 C 3px           0.04377\n",
            "pop of  3 C 3py           0.02479\n",
            "pop of  3 C 3pz           0.05365\n",
            "pop of  3 C 3dxy          0.00341\n",
            "pop of  3 C 3dyz          0.00369\n",
            "pop of  3 C 3dz^2         0.00759\n",
            "pop of  3 C 3dxz          0.00371\n",
            "pop of  3 C 3dx2-y2       0.00327\n",
            "pop of  4 C 1s            1.99957\n",
            "pop of  4 C 2s            0.62865\n",
            "pop of  4 C 3s            0.02587\n",
            "pop of  4 C 2px           1.32255\n",
            "pop of  4 C 2py           1.21839\n",
            "pop of  4 C 2pz           1.21999\n",
            "pop of  4 C 3px           0.03601\n",
            "pop of  4 C 3py           0.03580\n",
            "pop of  4 C 3pz           0.05735\n",
            "pop of  4 C 3dxy          0.00499\n",
            "pop of  4 C 3dyz          0.00366\n",
            "pop of  4 C 3dz^2         0.00248\n",
            "pop of  4 C 3dxz          0.00654\n",
            "pop of  4 C 3dx2-y2       0.00361\n",
            "pop of  5 C 1s            1.99939\n",
            "pop of  5 C 2s            0.42720\n",
            "pop of  5 C 3s            0.01413\n",
            "pop of  5 C 2px           1.10235\n",
            "pop of  5 C 2py           1.06629\n",
            "pop of  5 C 2pz           0.90422\n",
            "pop of  5 C 3px           0.02185\n",
            "pop of  5 C 3py           0.05022\n",
            "pop of  5 C 3pz           0.04993\n",
            "pop of  5 C 3dxy          0.00202\n",
            "pop of  5 C 3dyz          0.00399\n",
            "pop of  5 C 3dz^2         0.00421\n",
            "pop of  5 C 3dxz          0.00590\n",
            "pop of  5 C 3dx2-y2       0.00242\n",
            "pop of  6 O 1s            1.99987\n",
            "pop of  6 O 2s            1.16085\n",
            "pop of  6 O 3s            0.01155\n",
            "pop of  6 O 2px           1.66470\n",
            "pop of  6 O 2py           1.70604\n",
            "pop of  6 O 2pz           1.46629\n",
            "pop of  6 O 3px           0.03059\n",
            "pop of  6 O 3py           0.04621\n",
            "pop of  6 O 3pz           0.05550\n",
            "pop of  6 O 3dxy          0.01514\n",
            "pop of  6 O 3dyz          0.00742\n",
            "pop of  6 O 3dz^2         0.00873\n",
            "pop of  6 O 3dxz          0.00659\n",
            "pop of  6 O 3dx2-y2       0.00937\n",
            "pop of  7 N 1s            1.99971\n",
            "pop of  7 N 2s            0.80616\n",
            "pop of  7 N 3s            0.02664\n",
            "pop of  7 N 2px           1.35328\n",
            "pop of  7 N 2py           1.58673\n",
            "pop of  7 N 2pz           1.30999\n",
            "pop of  7 N 3px           0.02499\n",
            "pop of  7 N 3py           0.06514\n",
            "pop of  7 N 3pz           0.05321\n",
            "pop of  7 N 3dxy          0.01005\n",
            "pop of  7 N 3dyz          0.01507\n",
            "pop of  7 N 3dz^2         0.01163\n",
            "pop of  7 N 3dxz          0.00498\n",
            "pop of  7 N 3dx2-y2       0.00699\n",
            "pop of  8 C 1s            1.99934\n",
            "pop of  8 C 2s            0.50330\n",
            "pop of  8 C 3s            0.01605\n",
            "pop of  8 C 2px           1.44643\n",
            "pop of  8 C 2py           1.26065\n",
            "pop of  8 C 2pz           1.18393\n",
            "pop of  8 C 3px           0.01727\n",
            "pop of  8 C 3py           0.02628\n",
            "pop of  8 C 3pz           0.04004\n",
            "pop of  8 C 3dxy          0.00682\n",
            "pop of  8 C 3dyz          0.00501\n",
            "pop of  8 C 3dz^2         0.01146\n",
            "pop of  8 C 3dxz          0.01640\n",
            "pop of  8 C 3dx2-y2       0.00622\n",
            "pop of  9 S 1s            1.99999\n",
            "pop of  9 S 2s            1.99963\n",
            "pop of  9 S 3s            1.05843\n",
            "pop of  9 S 4s            0.09266\n",
            "pop of  9 S 2px           1.99948\n",
            "pop of  9 S 2py           1.99936\n",
            "pop of  9 S 2pz           1.99968\n",
            "pop of  9 S 3px           0.75855\n",
            "pop of  9 S 3py           1.20138\n",
            "pop of  9 S 3pz           1.38315\n",
            "pop of  9 S 4px           0.02082\n",
            "pop of  9 S 4py           0.03289\n",
            "pop of  9 S 4pz           0.02378\n",
            "pop of  9 S 3dxy          0.00811\n",
            "pop of  9 S 3dyz          0.01020\n",
            "pop of  9 S 3dz^2         0.01306\n",
            "pop of  9 S 3dxz          0.01347\n",
            "pop of  9 S 3dx2-y2       0.00615\n",
            "pop of  10 N 1s           1.99974\n",
            "pop of  10 N 2s           1.01950\n",
            "pop of  10 N 3s           0.01349\n",
            "pop of  10 N 2px          1.59413\n",
            "pop of  10 N 2py          1.64414\n",
            "pop of  10 N 2pz          1.59850\n",
            "pop of  10 N 3px          0.02999\n",
            "pop of  10 N 3py          0.02737\n",
            "pop of  10 N 3pz          0.03605\n",
            "pop of  10 N 3dxy         0.01290\n",
            "pop of  10 N 3dyz         0.01848\n",
            "pop of  10 N 3dz^2        0.01481\n",
            "pop of  10 N 3dxz         0.01753\n",
            "pop of  10 N 3dx2-y2      0.01128\n",
            "pop of  11 C 1s           1.99948\n",
            "pop of  11 C 2s           0.48226\n",
            "pop of  11 C 3s           0.01818\n",
            "pop of  11 C 2px          1.16042\n",
            "pop of  11 C 2py          1.25642\n",
            "pop of  11 C 2pz          1.04148\n",
            "pop of  11 C 3px          0.01916\n",
            "pop of  11 C 3py          0.03773\n",
            "pop of  11 C 3pz          0.05084\n",
            "pop of  11 C 3dxy         0.00474\n",
            "pop of  11 C 3dyz         0.00727\n",
            "pop of  11 C 3dz^2        0.00478\n",
            "pop of  11 C 3dxz         0.00304\n",
            "pop of  11 C 3dx2-y2      0.00646\n",
            "pop of  12 C 1s           1.99940\n",
            "pop of  12 C 2s           0.41493\n",
            "pop of  12 C 3s           0.02508\n",
            "pop of  12 C 2px          1.28223\n",
            "pop of  12 C 2py          1.26491\n",
            "pop of  12 C 2pz          1.09703\n",
            "pop of  12 C 3px          0.01667\n",
            "pop of  12 C 3py          0.02634\n",
            "pop of  12 C 3pz          0.05296\n",
            "pop of  12 C 3dxy         0.00290\n",
            "pop of  12 C 3dyz         0.00532\n",
            "pop of  12 C 3dz^2        0.00577\n",
            "pop of  12 C 3dxz         0.00711\n",
            "pop of  12 C 3dx2-y2      0.00360\n",
            "pop of  13 H 1s           0.60027\n",
            "pop of  13 H 2s           0.01821\n",
            "pop of  14 H 1s           0.62746\n",
            "pop of  14 H 2s           0.02399\n",
            "pop of  15 H 1s           0.66083\n",
            "pop of  15 H 2s           0.02390\n",
            "pop of  16 H 1s           0.70234\n",
            "pop of  16 H 2s           0.02703\n",
            "pop of  17 H 1s           0.79360\n",
            "pop of  17 H 2s           0.02899\n",
            "pop of  18 H 1s           0.49566\n",
            "pop of  18 H 2s           0.02460\n",
            "pop of  19 H 1s           0.75573\n",
            "pop of  19 H 2s           0.03538\n",
            " ** Mulliken atomic charges  **\n",
            "charge of    0N =     -0.66762\n",
            "charge of    1C =      0.15572\n",
            "charge of    2C =     -0.19519\n",
            "charge of    3C =     -0.29753\n",
            "charge of    4C =     -0.56545\n",
            "charge of    5C =      0.34589\n",
            "charge of    6O =     -0.18886\n",
            "charge of    7N =     -0.27459\n",
            "charge of    8C =     -0.53918\n",
            "charge of    9S =      1.37921\n",
            "charge of   10N =     -1.03789\n",
            "charge of   11C =     -0.09227\n",
            "charge of   12C =     -0.20425\n",
            "charge of   13H =      0.38152\n",
            "charge of   14H =      0.34855\n",
            "charge of   15H =      0.31527\n",
            "charge of   16H =      0.27063\n",
            "charge of   17H =      0.17741\n",
            "charge of   18H =      0.47975\n",
            "charge of   19H =      0.20889\n",
            "Dipole moment(X, Y, Z, Debye): -2.25834, -4.99083, -1.18026\n"
          ]
        },
        {
          "output_type": "execute_result",
          "data": {
            "text/plain": [
              "((array([1.99976876e+00, 8.76892980e-01, 1.45048734e-02, 1.56901524e+00,\n",
              "         1.43988217e+00, 1.61147814e+00, 3.33192904e-02, 3.42412319e-02,\n",
              "         4.56367276e-02, 2.76463456e-03, 8.30495575e-03, 1.17813513e-02,\n",
              "         9.95873418e-03, 1.00669676e-02, 1.99944016e+00, 3.68776946e-01,\n",
              "         2.39576836e-02, 1.20637612e+00, 1.15727251e+00, 1.00090493e+00,\n",
              "         1.58490099e-02, 1.46363174e-02, 4.25164816e-02, 1.62002268e-03,\n",
              "         3.92317761e-03, 3.96145004e-03, 2.81768168e-03, 2.22513096e-03,\n",
              "         1.99944624e+00, 4.47219705e-01, 2.42207968e-02, 1.26310070e+00,\n",
              "         1.24091347e+00, 1.10569851e+00, 2.12114801e-02, 2.00032808e-02,\n",
              "         5.32718972e-02, 3.51794011e-03, 3.15590474e-03, 5.74875063e-03,\n",
              "         5.09179161e-03, 2.59305674e-03, 1.99952123e+00, 5.24074014e-01,\n",
              "         1.88318692e-02, 1.21669911e+00, 1.20552740e+00, 1.18901905e+00,\n",
              "         4.37662275e-02, 2.47872848e-02, 5.36482064e-02, 3.40648479e-03,\n",
              "         3.68569249e-03, 7.58564380e-03, 3.70857135e-03, 3.26969798e-03,\n",
              "         1.99956592e+00, 6.28651674e-01, 2.58678303e-02, 1.32254620e+00,\n",
              "         1.21838807e+00, 1.21999388e+00, 3.60104536e-02, 3.58034449e-02,\n",
              "         5.73454501e-02, 4.99103000e-03, 3.65632819e-03, 2.48093977e-03,\n",
              "         6.54111506e-03, 3.61155635e-03, 1.99938744e+00, 4.27202440e-01,\n",
              "         1.41257253e-02, 1.10234574e+00, 1.06628768e+00, 9.04221472e-01,\n",
              "         2.18454538e-02, 5.02247417e-02, 4.99326127e-02, 2.02266000e-03,\n",
              "         3.98656754e-03, 4.21022118e-03, 5.89984946e-03, 2.42051951e-03,\n",
              "         1.99987398e+00, 1.16085409e+00, 1.15519302e-02, 1.66470090e+00,\n",
              "         1.70604263e+00, 1.46628826e+00, 3.05917928e-02, 4.62076978e-02,\n",
              "         5.54970995e-02, 1.51384903e-02, 7.42367266e-03, 8.72684781e-03,\n",
              "         6.58507500e-03, 9.37290315e-03, 1.99971121e+00, 8.06162017e-01,\n",
              "         2.66433818e-02, 1.35327623e+00, 1.58672963e+00, 1.30999332e+00,\n",
              "         2.49930363e-02, 6.51358742e-02, 5.32062312e-02, 1.00528230e-02,\n",
              "         1.50748536e-02, 1.16334679e-02, 4.98295897e-03, 6.99270466e-03,\n",
              "         1.99933805e+00, 5.03296124e-01, 1.60483538e-02, 1.44643110e+00,\n",
              "         1.26065300e+00, 1.18393405e+00, 1.72675739e-02, 2.62847321e-02,\n",
              "         4.00353385e-02, 6.81725584e-03, 5.00653585e-03, 1.14563528e-02,\n",
              "         1.63978223e-02, 6.21678778e-03, 1.99999160e+00, 1.99962816e+00,\n",
              "         1.05842849e+00, 9.26608118e-02, 1.99947640e+00, 1.99936412e+00,\n",
              "         1.99968295e+00, 7.58551995e-01, 1.20137538e+00, 1.38315498e+00,\n",
              "         2.08228877e-02, 3.28909546e-02, 2.37810300e-02, 8.10880649e-03,\n",
              "         1.01992798e-02, 1.30597029e-02, 1.34698406e-02, 6.14601171e-03,\n",
              "         1.99974130e+00, 1.01950028e+00, 1.34894067e-02, 1.59413404e+00,\n",
              "         1.64413843e+00, 1.59849636e+00, 2.99904197e-02, 2.73655336e-02,\n",
              "         3.60504354e-02, 1.28971242e-02, 1.84766825e-02, 1.48092370e-02,\n",
              "         1.75278119e-02, 1.12760313e-02, 1.99947757e+00, 4.82256996e-01,\n",
              "         1.81842358e-02, 1.16041794e+00, 1.25641899e+00, 1.04148305e+00,\n",
              "         1.91620118e-02, 3.77335842e-02, 5.08406370e-02, 4.73820378e-03,\n",
              "         7.27056154e-03, 4.78347859e-03, 3.04195837e-03, 6.45834531e-03,\n",
              "         1.99940045e+00, 4.14926441e-01, 2.50793287e-02, 1.28222796e+00,\n",
              "         1.26490980e+00, 1.09702767e+00, 1.66732385e-02, 2.63435855e-02,\n",
              "         5.29604250e-02, 2.90487854e-03, 5.32043589e-03, 5.76848989e-03,\n",
              "         7.10543932e-03, 3.60424313e-03, 6.00266335e-01, 1.82115220e-02,\n",
              "         6.27459221e-01, 2.39904967e-02, 6.60829848e-01, 2.39041765e-02,\n",
              "         7.02339626e-01, 2.70301616e-02, 7.93601239e-01, 2.89880174e-02,\n",
              "         4.95655812e-01, 2.45958765e-02, 7.55734913e-01, 3.53754046e-02]),\n",
              "  array([-0.66761605,  0.15572238, -0.19519353, -0.29753048, -0.5654539 ,\n",
              "          0.34588688, -0.18885537, -0.27458774, -0.53918308,  1.37920658,\n",
              "         -1.03789309, -0.09226757, -0.20425239,  0.38152214,  0.34855028,\n",
              "          0.31526598,  0.27063021,  0.17741074,  0.47974831,  0.20888968])),\n",
              " array([-2.25834299, -4.99082764, -1.18025958]))"
            ]
          },
          "metadata": {},
          "execution_count": 19
        }
      ]
    },
    {
      "cell_type": "markdown",
      "source": [
        "#### Nombre d'orbitales moléculaires occupées ou nombre de transitions possible d'un électron dans l'espace donné"
      ],
      "metadata": {
        "id": "wILuCZDiWnD9"
      }
    },
    {
      "cell_type": "code",
      "source": [
        "mf.mo_occ"
      ],
      "metadata": {
        "colab": {
          "base_uri": "https://localhost:8080/"
        },
        "id": "VfhvGDO3cuY5",
        "outputId": "c722e3f0-3247-4e49-f70d-7a5532924a46"
      },
      "execution_count": 20,
      "outputs": [
        {
          "output_type": "execute_result",
          "data": {
            "text/plain": [
              "array([2., 2., 2., 2., 2., 2., 2., 2., 2., 2., 2., 2., 2., 2., 2., 2., 2.,\n",
              "       2., 2., 2., 2., 2., 2., 2., 2., 2., 2., 2., 2., 2., 2., 2., 2., 2.,\n",
              "       2., 2., 2., 2., 2., 2., 2., 2., 2., 2., 2., 2., 2., 2., 2., 2., 0.,\n",
              "       0., 0., 0., 0., 0., 0., 0., 0., 0., 0., 0., 0., 0., 0., 0., 0., 0.,\n",
              "       0., 0., 0., 0., 0., 0., 0., 0., 0., 0., 0., 0., 0., 0., 0., 0., 0.,\n",
              "       0., 0., 0., 0., 0., 0., 0., 0., 0., 0., 0., 0., 0., 0., 0., 0., 0.,\n",
              "       0., 0., 0., 0., 0., 0., 0., 0., 0., 0., 0., 0., 0., 0., 0., 0., 0.,\n",
              "       0., 0., 0., 0., 0., 0., 0., 0., 0., 0., 0., 0., 0., 0., 0., 0., 0.,\n",
              "       0., 0., 0., 0., 0., 0., 0., 0., 0., 0., 0., 0., 0., 0., 0., 0., 0.,\n",
              "       0., 0., 0., 0., 0., 0., 0., 0., 0., 0., 0., 0., 0., 0., 0., 0., 0.,\n",
              "       0., 0., 0., 0., 0., 0., 0., 0., 0., 0., 0., 0., 0., 0., 0., 0., 0.,\n",
              "       0., 0., 0., 0., 0., 0., 0., 0., 0., 0., 0., 0., 0.])"
            ]
          },
          "metadata": {},
          "execution_count": 20
        }
      ]
    },
    {
      "cell_type": "markdown",
      "source": [
        "#### Index des Homo et Lumo"
      ],
      "metadata": {
        "id": "l_NolxNzXIiK"
      }
    },
    {
      "cell_type": "code",
      "source": [
        "Lumo_idx = mf.mo_occ.tolist().index(0.)\n",
        "Homo_idx = Lumo_idx - 1\n",
        "print(f'Les index (Homo et Lumo) sont : {Homo_idx , Lumo_idx}')"
      ],
      "metadata": {
        "colab": {
          "base_uri": "https://localhost:8080/"
        },
        "id": "7moL_DP2cuOE",
        "outputId": "27ed39a9-c3c8-4111-9d27-9183e6017f11"
      },
      "execution_count": 21,
      "outputs": [
        {
          "output_type": "stream",
          "name": "stdout",
          "text": [
            "Les index (Homo et Lumo) sont : (49, 50)\n"
          ]
        }
      ]
    },
    {
      "cell_type": "markdown",
      "source": [
        "#### Visualisation graphique de mes index"
      ],
      "metadata": {
        "id": "LoUL8ZFdXO4_"
      }
    },
    {
      "cell_type": "code",
      "source": [
        "try:\n",
        "    import plotly.express as px\n",
        "except:\n",
        "    !pip install plotly\n",
        "    import plotly.express as px\n",
        "\n",
        "# Plot the MO Occupations\n",
        "fig = px.line(y=mf.mo_occ, markers=True, title=\"Molecular Orbital (MO) Occupations\")\n",
        "fig.update_layout(xaxis_title=\"Orbital Index (0-Based)\", yaxis_title=\"MO Occupation\")\n",
        "fig.show()"
      ],
      "metadata": {
        "colab": {
          "base_uri": "https://localhost:8080/",
          "height": 542
        },
        "id": "Atd2v0BdcuAY",
        "outputId": "44e77c47-1136-4c30-95c7-0d67dd1aff8a"
      },
      "execution_count": 22,
      "outputs": [
        {
          "output_type": "display_data",
          "data": {
            "text/html": [
              "<html>\n",
              "<head><meta charset=\"utf-8\" /></head>\n",
              "<body>\n",
              "    <div>            <script src=\"https://cdnjs.cloudflare.com/ajax/libs/mathjax/2.7.5/MathJax.js?config=TeX-AMS-MML_SVG\"></script><script type=\"text/javascript\">if (window.MathJax && window.MathJax.Hub && window.MathJax.Hub.Config) {window.MathJax.Hub.Config({SVG: {font: \"STIX-Web\"}});}</script>                <script type=\"text/javascript\">window.PlotlyConfig = {MathJaxConfig: 'local'};</script>\n",
              "        <script charset=\"utf-8\" src=\"https://cdn.plot.ly/plotly-2.24.1.min.js\"></script>                <div id=\"ec6a9df5-9f03-45f6-bc91-49bee8f556a6\" class=\"plotly-graph-div\" style=\"height:525px; width:100%;\"></div>            <script type=\"text/javascript\">                                    window.PLOTLYENV=window.PLOTLYENV || {};                                    if (document.getElementById(\"ec6a9df5-9f03-45f6-bc91-49bee8f556a6\")) {                    Plotly.newPlot(                        \"ec6a9df5-9f03-45f6-bc91-49bee8f556a6\",                        [{\"hovertemplate\":\"x=%{x}\\u003cbr\\u003ey=%{y}\\u003cextra\\u003e\\u003c\\u002fextra\\u003e\",\"legendgroup\":\"\",\"line\":{\"color\":\"#636efa\",\"dash\":\"solid\"},\"marker\":{\"symbol\":\"circle\"},\"mode\":\"markers+lines\",\"name\":\"\",\"orientation\":\"v\",\"showlegend\":false,\"x\":[0,1,2,3,4,5,6,7,8,9,10,11,12,13,14,15,16,17,18,19,20,21,22,23,24,25,26,27,28,29,30,31,32,33,34,35,36,37,38,39,40,41,42,43,44,45,46,47,48,49,50,51,52,53,54,55,56,57,58,59,60,61,62,63,64,65,66,67,68,69,70,71,72,73,74,75,76,77,78,79,80,81,82,83,84,85,86,87,88,89,90,91,92,93,94,95,96,97,98,99,100,101,102,103,104,105,106,107,108,109,110,111,112,113,114,115,116,117,118,119,120,121,122,123,124,125,126,127,128,129,130,131,132,133,134,135,136,137,138,139,140,141,142,143,144,145,146,147,148,149,150,151,152,153,154,155,156,157,158,159,160,161,162,163,164,165,166,167,168,169,170,171,172,173,174,175,176,177,178,179,180,181,182,183,184,185,186,187,188,189,190,191,192,193,194,195,196,197,198,199],\"xaxis\":\"x\",\"y\":[2.0,2.0,2.0,2.0,2.0,2.0,2.0,2.0,2.0,2.0,2.0,2.0,2.0,2.0,2.0,2.0,2.0,2.0,2.0,2.0,2.0,2.0,2.0,2.0,2.0,2.0,2.0,2.0,2.0,2.0,2.0,2.0,2.0,2.0,2.0,2.0,2.0,2.0,2.0,2.0,2.0,2.0,2.0,2.0,2.0,2.0,2.0,2.0,2.0,2.0,0.0,0.0,0.0,0.0,0.0,0.0,0.0,0.0,0.0,0.0,0.0,0.0,0.0,0.0,0.0,0.0,0.0,0.0,0.0,0.0,0.0,0.0,0.0,0.0,0.0,0.0,0.0,0.0,0.0,0.0,0.0,0.0,0.0,0.0,0.0,0.0,0.0,0.0,0.0,0.0,0.0,0.0,0.0,0.0,0.0,0.0,0.0,0.0,0.0,0.0,0.0,0.0,0.0,0.0,0.0,0.0,0.0,0.0,0.0,0.0,0.0,0.0,0.0,0.0,0.0,0.0,0.0,0.0,0.0,0.0,0.0,0.0,0.0,0.0,0.0,0.0,0.0,0.0,0.0,0.0,0.0,0.0,0.0,0.0,0.0,0.0,0.0,0.0,0.0,0.0,0.0,0.0,0.0,0.0,0.0,0.0,0.0,0.0,0.0,0.0,0.0,0.0,0.0,0.0,0.0,0.0,0.0,0.0,0.0,0.0,0.0,0.0,0.0,0.0,0.0,0.0,0.0,0.0,0.0,0.0,0.0,0.0,0.0,0.0,0.0,0.0,0.0,0.0,0.0,0.0,0.0,0.0,0.0,0.0,0.0,0.0,0.0,0.0,0.0,0.0,0.0,0.0,0.0,0.0,0.0,0.0,0.0,0.0,0.0,0.0],\"yaxis\":\"y\",\"type\":\"scatter\"}],                        {\"template\":{\"data\":{\"histogram2dcontour\":[{\"type\":\"histogram2dcontour\",\"colorbar\":{\"outlinewidth\":0,\"ticks\":\"\"},\"colorscale\":[[0.0,\"#0d0887\"],[0.1111111111111111,\"#46039f\"],[0.2222222222222222,\"#7201a8\"],[0.3333333333333333,\"#9c179e\"],[0.4444444444444444,\"#bd3786\"],[0.5555555555555556,\"#d8576b\"],[0.6666666666666666,\"#ed7953\"],[0.7777777777777778,\"#fb9f3a\"],[0.8888888888888888,\"#fdca26\"],[1.0,\"#f0f921\"]]}],\"choropleth\":[{\"type\":\"choropleth\",\"colorbar\":{\"outlinewidth\":0,\"ticks\":\"\"}}],\"histogram2d\":[{\"type\":\"histogram2d\",\"colorbar\":{\"outlinewidth\":0,\"ticks\":\"\"},\"colorscale\":[[0.0,\"#0d0887\"],[0.1111111111111111,\"#46039f\"],[0.2222222222222222,\"#7201a8\"],[0.3333333333333333,\"#9c179e\"],[0.4444444444444444,\"#bd3786\"],[0.5555555555555556,\"#d8576b\"],[0.6666666666666666,\"#ed7953\"],[0.7777777777777778,\"#fb9f3a\"],[0.8888888888888888,\"#fdca26\"],[1.0,\"#f0f921\"]]}],\"heatmap\":[{\"type\":\"heatmap\",\"colorbar\":{\"outlinewidth\":0,\"ticks\":\"\"},\"colorscale\":[[0.0,\"#0d0887\"],[0.1111111111111111,\"#46039f\"],[0.2222222222222222,\"#7201a8\"],[0.3333333333333333,\"#9c179e\"],[0.4444444444444444,\"#bd3786\"],[0.5555555555555556,\"#d8576b\"],[0.6666666666666666,\"#ed7953\"],[0.7777777777777778,\"#fb9f3a\"],[0.8888888888888888,\"#fdca26\"],[1.0,\"#f0f921\"]]}],\"heatmapgl\":[{\"type\":\"heatmapgl\",\"colorbar\":{\"outlinewidth\":0,\"ticks\":\"\"},\"colorscale\":[[0.0,\"#0d0887\"],[0.1111111111111111,\"#46039f\"],[0.2222222222222222,\"#7201a8\"],[0.3333333333333333,\"#9c179e\"],[0.4444444444444444,\"#bd3786\"],[0.5555555555555556,\"#d8576b\"],[0.6666666666666666,\"#ed7953\"],[0.7777777777777778,\"#fb9f3a\"],[0.8888888888888888,\"#fdca26\"],[1.0,\"#f0f921\"]]}],\"contourcarpet\":[{\"type\":\"contourcarpet\",\"colorbar\":{\"outlinewidth\":0,\"ticks\":\"\"}}],\"contour\":[{\"type\":\"contour\",\"colorbar\":{\"outlinewidth\":0,\"ticks\":\"\"},\"colorscale\":[[0.0,\"#0d0887\"],[0.1111111111111111,\"#46039f\"],[0.2222222222222222,\"#7201a8\"],[0.3333333333333333,\"#9c179e\"],[0.4444444444444444,\"#bd3786\"],[0.5555555555555556,\"#d8576b\"],[0.6666666666666666,\"#ed7953\"],[0.7777777777777778,\"#fb9f3a\"],[0.8888888888888888,\"#fdca26\"],[1.0,\"#f0f921\"]]}],\"surface\":[{\"type\":\"surface\",\"colorbar\":{\"outlinewidth\":0,\"ticks\":\"\"},\"colorscale\":[[0.0,\"#0d0887\"],[0.1111111111111111,\"#46039f\"],[0.2222222222222222,\"#7201a8\"],[0.3333333333333333,\"#9c179e\"],[0.4444444444444444,\"#bd3786\"],[0.5555555555555556,\"#d8576b\"],[0.6666666666666666,\"#ed7953\"],[0.7777777777777778,\"#fb9f3a\"],[0.8888888888888888,\"#fdca26\"],[1.0,\"#f0f921\"]]}],\"mesh3d\":[{\"type\":\"mesh3d\",\"colorbar\":{\"outlinewidth\":0,\"ticks\":\"\"}}],\"scatter\":[{\"fillpattern\":{\"fillmode\":\"overlay\",\"size\":10,\"solidity\":0.2},\"type\":\"scatter\"}],\"parcoords\":[{\"type\":\"parcoords\",\"line\":{\"colorbar\":{\"outlinewidth\":0,\"ticks\":\"\"}}}],\"scatterpolargl\":[{\"type\":\"scatterpolargl\",\"marker\":{\"colorbar\":{\"outlinewidth\":0,\"ticks\":\"\"}}}],\"bar\":[{\"error_x\":{\"color\":\"#2a3f5f\"},\"error_y\":{\"color\":\"#2a3f5f\"},\"marker\":{\"line\":{\"color\":\"#E5ECF6\",\"width\":0.5},\"pattern\":{\"fillmode\":\"overlay\",\"size\":10,\"solidity\":0.2}},\"type\":\"bar\"}],\"scattergeo\":[{\"type\":\"scattergeo\",\"marker\":{\"colorbar\":{\"outlinewidth\":0,\"ticks\":\"\"}}}],\"scatterpolar\":[{\"type\":\"scatterpolar\",\"marker\":{\"colorbar\":{\"outlinewidth\":0,\"ticks\":\"\"}}}],\"histogram\":[{\"marker\":{\"pattern\":{\"fillmode\":\"overlay\",\"size\":10,\"solidity\":0.2}},\"type\":\"histogram\"}],\"scattergl\":[{\"type\":\"scattergl\",\"marker\":{\"colorbar\":{\"outlinewidth\":0,\"ticks\":\"\"}}}],\"scatter3d\":[{\"type\":\"scatter3d\",\"line\":{\"colorbar\":{\"outlinewidth\":0,\"ticks\":\"\"}},\"marker\":{\"colorbar\":{\"outlinewidth\":0,\"ticks\":\"\"}}}],\"scattermapbox\":[{\"type\":\"scattermapbox\",\"marker\":{\"colorbar\":{\"outlinewidth\":0,\"ticks\":\"\"}}}],\"scatterternary\":[{\"type\":\"scatterternary\",\"marker\":{\"colorbar\":{\"outlinewidth\":0,\"ticks\":\"\"}}}],\"scattercarpet\":[{\"type\":\"scattercarpet\",\"marker\":{\"colorbar\":{\"outlinewidth\":0,\"ticks\":\"\"}}}],\"carpet\":[{\"aaxis\":{\"endlinecolor\":\"#2a3f5f\",\"gridcolor\":\"white\",\"linecolor\":\"white\",\"minorgridcolor\":\"white\",\"startlinecolor\":\"#2a3f5f\"},\"baxis\":{\"endlinecolor\":\"#2a3f5f\",\"gridcolor\":\"white\",\"linecolor\":\"white\",\"minorgridcolor\":\"white\",\"startlinecolor\":\"#2a3f5f\"},\"type\":\"carpet\"}],\"table\":[{\"cells\":{\"fill\":{\"color\":\"#EBF0F8\"},\"line\":{\"color\":\"white\"}},\"header\":{\"fill\":{\"color\":\"#C8D4E3\"},\"line\":{\"color\":\"white\"}},\"type\":\"table\"}],\"barpolar\":[{\"marker\":{\"line\":{\"color\":\"#E5ECF6\",\"width\":0.5},\"pattern\":{\"fillmode\":\"overlay\",\"size\":10,\"solidity\":0.2}},\"type\":\"barpolar\"}],\"pie\":[{\"automargin\":true,\"type\":\"pie\"}]},\"layout\":{\"autotypenumbers\":\"strict\",\"colorway\":[\"#636efa\",\"#EF553B\",\"#00cc96\",\"#ab63fa\",\"#FFA15A\",\"#19d3f3\",\"#FF6692\",\"#B6E880\",\"#FF97FF\",\"#FECB52\"],\"font\":{\"color\":\"#2a3f5f\"},\"hovermode\":\"closest\",\"hoverlabel\":{\"align\":\"left\"},\"paper_bgcolor\":\"white\",\"plot_bgcolor\":\"#E5ECF6\",\"polar\":{\"bgcolor\":\"#E5ECF6\",\"angularaxis\":{\"gridcolor\":\"white\",\"linecolor\":\"white\",\"ticks\":\"\"},\"radialaxis\":{\"gridcolor\":\"white\",\"linecolor\":\"white\",\"ticks\":\"\"}},\"ternary\":{\"bgcolor\":\"#E5ECF6\",\"aaxis\":{\"gridcolor\":\"white\",\"linecolor\":\"white\",\"ticks\":\"\"},\"baxis\":{\"gridcolor\":\"white\",\"linecolor\":\"white\",\"ticks\":\"\"},\"caxis\":{\"gridcolor\":\"white\",\"linecolor\":\"white\",\"ticks\":\"\"}},\"coloraxis\":{\"colorbar\":{\"outlinewidth\":0,\"ticks\":\"\"}},\"colorscale\":{\"sequential\":[[0.0,\"#0d0887\"],[0.1111111111111111,\"#46039f\"],[0.2222222222222222,\"#7201a8\"],[0.3333333333333333,\"#9c179e\"],[0.4444444444444444,\"#bd3786\"],[0.5555555555555556,\"#d8576b\"],[0.6666666666666666,\"#ed7953\"],[0.7777777777777778,\"#fb9f3a\"],[0.8888888888888888,\"#fdca26\"],[1.0,\"#f0f921\"]],\"sequentialminus\":[[0.0,\"#0d0887\"],[0.1111111111111111,\"#46039f\"],[0.2222222222222222,\"#7201a8\"],[0.3333333333333333,\"#9c179e\"],[0.4444444444444444,\"#bd3786\"],[0.5555555555555556,\"#d8576b\"],[0.6666666666666666,\"#ed7953\"],[0.7777777777777778,\"#fb9f3a\"],[0.8888888888888888,\"#fdca26\"],[1.0,\"#f0f921\"]],\"diverging\":[[0,\"#8e0152\"],[0.1,\"#c51b7d\"],[0.2,\"#de77ae\"],[0.3,\"#f1b6da\"],[0.4,\"#fde0ef\"],[0.5,\"#f7f7f7\"],[0.6,\"#e6f5d0\"],[0.7,\"#b8e186\"],[0.8,\"#7fbc41\"],[0.9,\"#4d9221\"],[1,\"#276419\"]]},\"xaxis\":{\"gridcolor\":\"white\",\"linecolor\":\"white\",\"ticks\":\"\",\"title\":{\"standoff\":15},\"zerolinecolor\":\"white\",\"automargin\":true,\"zerolinewidth\":2},\"yaxis\":{\"gridcolor\":\"white\",\"linecolor\":\"white\",\"ticks\":\"\",\"title\":{\"standoff\":15},\"zerolinecolor\":\"white\",\"automargin\":true,\"zerolinewidth\":2},\"scene\":{\"xaxis\":{\"backgroundcolor\":\"#E5ECF6\",\"gridcolor\":\"white\",\"linecolor\":\"white\",\"showbackground\":true,\"ticks\":\"\",\"zerolinecolor\":\"white\",\"gridwidth\":2},\"yaxis\":{\"backgroundcolor\":\"#E5ECF6\",\"gridcolor\":\"white\",\"linecolor\":\"white\",\"showbackground\":true,\"ticks\":\"\",\"zerolinecolor\":\"white\",\"gridwidth\":2},\"zaxis\":{\"backgroundcolor\":\"#E5ECF6\",\"gridcolor\":\"white\",\"linecolor\":\"white\",\"showbackground\":true,\"ticks\":\"\",\"zerolinecolor\":\"white\",\"gridwidth\":2}},\"shapedefaults\":{\"line\":{\"color\":\"#2a3f5f\"}},\"annotationdefaults\":{\"arrowcolor\":\"#2a3f5f\",\"arrowhead\":0,\"arrowwidth\":1},\"geo\":{\"bgcolor\":\"white\",\"landcolor\":\"#E5ECF6\",\"subunitcolor\":\"white\",\"showland\":true,\"showlakes\":true,\"lakecolor\":\"white\"},\"title\":{\"x\":0.05},\"mapbox\":{\"style\":\"light\"}}},\"xaxis\":{\"anchor\":\"y\",\"domain\":[0.0,1.0],\"title\":{\"text\":\"Orbital Index (0-Based)\"}},\"yaxis\":{\"anchor\":\"x\",\"domain\":[0.0,1.0],\"title\":{\"text\":\"MO Occupation\"}},\"legend\":{\"tracegroupgap\":0},\"title\":{\"text\":\"Molecular Orbital (MO) Occupations\"}},                        {\"responsive\": true}                    ).then(function(){\n",
              "                            \n",
              "var gd = document.getElementById('ec6a9df5-9f03-45f6-bc91-49bee8f556a6');\n",
              "var x = new MutationObserver(function (mutations, observer) {{\n",
              "        var display = window.getComputedStyle(gd).display;\n",
              "        if (!display || display === 'none') {{\n",
              "            console.log([gd, 'removed!']);\n",
              "            Plotly.purge(gd);\n",
              "            observer.disconnect();\n",
              "        }}\n",
              "}});\n",
              "\n",
              "// Listen for the removal of the full notebook cells\n",
              "var notebookContainer = gd.closest('#notebook-container');\n",
              "if (notebookContainer) {{\n",
              "    x.observe(notebookContainer, {childList: true});\n",
              "}}\n",
              "\n",
              "// Listen for the clearing of the current output cell\n",
              "var outputEl = gd.closest('.output');\n",
              "if (outputEl) {{\n",
              "    x.observe(outputEl, {childList: true});\n",
              "}}\n",
              "\n",
              "                        })                };                            </script>        </div>\n",
              "</body>\n",
              "</html>"
            ]
          },
          "metadata": {}
        }
      ]
    },
    {
      "cell_type": "markdown",
      "source": [
        "#### Calcul des énergies Homo, Lumo et gap ($ΔE_{Homo-Lumo}$)\n",
        "Sachant que : $ΔE_{Homo-Lumo} = |E_{Homo} - E_{Lumo}| $"
      ],
      "metadata": {
        "id": "cHPPeQ2VXdIL"
      }
    },
    {
      "cell_type": "code",
      "source": [
        "from pyscf.data.nist import HARTREE2EV as au2ev\n",
        "\n",
        "print(f'Energie du Homo = {mf.mo_energy[Homo_idx] * au2ev} eV')\n",
        "print(f'Energie de Lumo = {mf.mo_energy[Lumo_idx] * au2ev} eV')\n",
        "print(f'Energie du gap Homo-Lumo = {abs(mf.mo_energy[Homo_idx] - mf.mo_energy[Lumo_idx]) * au2ev} eV')"
      ],
      "metadata": {
        "colab": {
          "base_uri": "https://localhost:8080/"
        },
        "id": "kVCK1NYUctsg",
        "outputId": "96b8d918-d65c-44e1-a705-24299de1d2a9"
      },
      "execution_count": 23,
      "outputs": [
        {
          "output_type": "stream",
          "name": "stdout",
          "text": [
            "Energie du Homo = -1.1530560595404882 eV\n",
            "Energie de Lumo = 0.2449369622832596 eV\n",
            "Energie du gap Homo-Lumo = 1.3979930218237475 eV\n"
          ]
        }
      ]
    },
    {
      "cell_type": "code",
      "source": [
        "E_Homo = mf.mo_energy[Homo_idx] * au2ev\n",
        "E_Lumo = mf.mo_energy[Lumo_idx] * au2ev"
      ],
      "metadata": {
        "id": "eZhsERGPS63_"
      },
      "execution_count": 24,
      "outputs": []
    },
    {
      "cell_type": "code",
      "source": [
        "E_gap = abs(mf.mo_energy[Homo_idx] - mf.mo_energy[Lumo_idx]) * au2ev\n",
        "E_gap"
      ],
      "metadata": {
        "colab": {
          "base_uri": "https://localhost:8080/"
        },
        "id": "Nm9YxIs_J0SI",
        "outputId": "1f329c04-3ecb-4269-eb59-2b7ade91f50b"
      },
      "execution_count": 25,
      "outputs": [
        {
          "output_type": "execute_result",
          "data": {
            "text/plain": [
              "1.3979930218237475"
            ]
          },
          "metadata": {},
          "execution_count": 25
        }
      ]
    },
    {
      "cell_type": "markdown",
      "source": [
        "#### Calcul de la longueur d'onde en nm"
      ],
      "metadata": {
        "id": "ne4LBZ1cYbMF"
      }
    },
    {
      "cell_type": "code",
      "source": [
        "wavelength_m = (12400 / E_gap)\n",
        "print(f'Longueur d onde = {wavelength_m * 0.1} nm')"
      ],
      "metadata": {
        "colab": {
          "base_uri": "https://localhost:8080/"
        },
        "id": "UtNsjOcqJlaN",
        "outputId": "1de256f6-e5a7-4b89-8a36-361e298cf434"
      },
      "execution_count": 26,
      "outputs": [
        {
          "output_type": "stream",
          "name": "stdout",
          "text": [
            "Longueur d onde = 886.9858294302227 nm\n"
          ]
        }
      ]
    },
    {
      "cell_type": "markdown",
      "source": [
        "Cette longueur d'onde n'appartient pas au domaine du visible"
      ],
      "metadata": {
        "id": "_Lsgp55TYnWQ"
      }
    },
    {
      "cell_type": "markdown",
      "source": [
        "#### Calcul des différents états excités en utilisant la TDDFT"
      ],
      "metadata": {
        "id": "osU0T1gbZSnB"
      }
    },
    {
      "cell_type": "code",
      "source": [
        "mytd = tddft.TDDFT(mf)\n",
        "mytd.kernel()"
      ],
      "metadata": {
        "colab": {
          "base_uri": "https://localhost:8080/"
        },
        "id": "Y4xKmOpeflfk",
        "outputId": "dad9e97c-d213-41f5-b4c0-464213565ac3"
      },
      "execution_count": 27,
      "outputs": [
        {
          "output_type": "stream",
          "name": "stdout",
          "text": [
            "Excited State energies (eV)\n",
            "[0.40377868 1.15306158 1.44727367]\n"
          ]
        },
        {
          "output_type": "execute_result",
          "data": {
            "text/plain": [
              "(array([0.01483859, 0.04237423, 0.05318633]),\n",
              " [(array([[-9.55899119e-08,  4.41536915e-08,  1.41758850e-07, ...,\n",
              "            8.05306963e-08,  2.37203299e-07, -1.50119970e-07],\n",
              "          [-7.63672616e-06,  1.83938124e-06, -3.50469592e-07, ...,\n",
              "           -9.40963749e-07,  3.46217383e-06, -1.07023641e-07],\n",
              "          [-2.45699128e-06,  7.87378587e-07,  1.40982087e-07, ...,\n",
              "            2.30773091e-07, -5.77559024e-07,  8.55382197e-08],\n",
              "          ...,\n",
              "          [ 6.51719711e-03, -1.25115148e-02,  1.41006364e-03, ...,\n",
              "           -3.81339129e-06,  1.36314206e-06, -3.67715968e-07],\n",
              "          [ 1.64077452e-01, -6.18384715e-03,  5.92145120e-04, ...,\n",
              "           -6.98495604e-06, -3.67199156e-06, -1.23898899e-05],\n",
              "          [-8.09501529e-01,  5.86970149e-04, -5.65133099e-02, ...,\n",
              "            7.15144026e-06, -5.64907504e-08,  1.37798291e-06]]),\n",
              "   array([[ 1.14274535e-07,  4.65759840e-08,  2.01238358e-07, ...,\n",
              "            9.08250243e-08,  2.09384372e-07, -1.59376914e-07],\n",
              "          [ 1.45841387e-05,  3.49725612e-07, -2.69867930e-07, ...,\n",
              "           -1.56321171e-06,  3.47695750e-06,  1.99922472e-07],\n",
              "          [-5.41942647e-07,  5.43518595e-07,  8.99288513e-07, ...,\n",
              "            1.18764989e-07, -6.19928437e-07,  1.81410066e-07],\n",
              "          ...,\n",
              "          [ 1.77762034e-03, -8.52864384e-03,  2.00122839e-03, ...,\n",
              "           -2.18133474e-06,  7.86588129e-07,  6.80385954e-07],\n",
              "          [ 5.88526580e-03, -8.04401316e-04,  5.19815370e-03, ...,\n",
              "           -5.48762359e-06, -1.38419669e-05, -8.36948876e-06],\n",
              "          [ 4.30609582e-01, -1.60050006e-03,  5.97307574e-03, ...,\n",
              "            1.14924930e-05,  1.86078997e-07, -5.09867142e-06]])),\n",
              "  (array([[ 2.03585418e-08, -6.43166754e-08,  2.26167645e-08, ...,\n",
              "            1.21466240e-08,  3.10489646e-08, -1.62272701e-08],\n",
              "          [-2.05962085e-06,  5.16772955e-06, -6.91527087e-07, ...,\n",
              "            1.52835394e-07,  5.58329916e-07, -1.25943599e-07],\n",
              "          [-4.76382112e-07,  1.17883232e-05, -5.51540161e-07, ...,\n",
              "            5.62867632e-07, -1.15198391e-06,  4.93775155e-07],\n",
              "          ...,\n",
              "          [ 2.71113322e-02,  2.23095400e-03,  3.65526412e-03, ...,\n",
              "           -5.51096724e-06, -4.75924476e-06,  6.40410464e-06],\n",
              "          [ 3.42090455e-02, -3.38680849e-02,  3.27407765e-03, ...,\n",
              "            2.61677565e-06, -1.50974458e-06, -8.61304655e-07],\n",
              "          [ 1.42563141e-02,  7.03950719e-01, -3.56910731e-02, ...,\n",
              "            3.00763813e-06,  3.28333127e-07,  3.80855781e-07]]),\n",
              "   array([[ 3.56017338e-08, -8.05313096e-08,  7.16982748e-08, ...,\n",
              "            1.96127344e-08,  3.08261765e-08, -1.75327915e-08],\n",
              "          [-1.44720425e-06,  2.40317427e-06, -2.82358401e-07, ...,\n",
              "            1.59792260e-07,  5.45081036e-07, -1.44898661e-07],\n",
              "          [-2.80373401e-07,  6.85696165e-06,  9.68726573e-08, ...,\n",
              "            4.92463652e-07, -1.04250414e-06,  4.32406623e-07],\n",
              "          ...,\n",
              "          [ 5.86430935e-03,  3.03058089e-03,  4.09957466e-03, ...,\n",
              "           -8.25695316e-06, -8.33626871e-06,  8.67300521e-06],\n",
              "          [-2.48680095e-03, -1.65739629e-03,  5.75913948e-04, ...,\n",
              "            7.56032157e-07, -2.24006802e-06, -4.34648483e-07],\n",
              "          [-7.22930706e-03, -4.13598510e-02,  4.07960454e-03, ...,\n",
              "            4.09338381e-06, -1.98178578e-06, -4.59339256e-07]])),\n",
              "  (array([[-1.43027815e-07,  1.17062924e-07,  3.15896700e-07, ...,\n",
              "            2.09059479e-07,  4.17192438e-07, -3.04418947e-07],\n",
              "          [-3.10703808e-05, -1.09250277e-08,  3.90525633e-06, ...,\n",
              "            7.58583003e-07,  5.20141575e-06, -2.05039885e-06],\n",
              "          [-2.36922654e-06,  5.28977536e-07, -1.71530370e-06, ...,\n",
              "           -4.33628021e-07,  3.00396839e-08,  3.30571923e-07],\n",
              "          ...,\n",
              "          [-1.59139783e-02,  2.06954399e-02, -4.79541172e-03, ...,\n",
              "           -8.91843955e-06,  3.49260326e-06,  2.01208718e-06],\n",
              "          [ 6.85351010e-01,  1.56535395e-02,  1.95809015e-02, ...,\n",
              "            1.62847510e-05,  1.07244916e-05, -4.77767842e-06],\n",
              "          [ 2.00900918e-01, -3.05341336e-02,  7.82201588e-02, ...,\n",
              "            2.21376849e-05, -1.34681873e-05, -9.42540720e-06]]),\n",
              "   array([[ 3.40191243e-08,  1.50827597e-07,  4.13766510e-07, ...,\n",
              "            2.28587596e-07,  3.72858278e-07, -3.16726862e-07],\n",
              "          [-3.32430377e-05,  1.82293072e-08,  3.77930443e-06, ...,\n",
              "            4.96888418e-07,  5.24289102e-06, -2.07442688e-06],\n",
              "          [ 8.46868551e-07,  3.94607211e-07,  5.81915790e-07, ...,\n",
              "           -7.13024439e-07, -6.32153156e-08,  5.19087051e-07],\n",
              "          ...,\n",
              "          [-2.17300725e-03,  1.48089195e-02, -4.18241127e-03, ...,\n",
              "           -7.66511299e-06,  4.02669611e-06,  1.32726684e-06],\n",
              "          [-6.46066251e-02,  6.42138031e-03, -4.85938887e-03, ...,\n",
              "            1.53476026e-05,  8.29900848e-06, -4.55466747e-06],\n",
              "          [-1.25521620e-01,  4.37895454e-03,  1.10573529e-02, ...,\n",
              "            1.99306199e-05, -1.88235332e-05, -1.40074140e-05]]))])"
            ]
          },
          "metadata": {},
          "execution_count": 27
        }
      ]
    },
    {
      "cell_type": "code",
      "source": [
        "mytd.analyze(verbose=5)"
      ],
      "metadata": {
        "colab": {
          "base_uri": "https://localhost:8080/"
        },
        "id": "EZBbVA6kgaUd",
        "outputId": "c3b142c1-5a7b-44aa-dd22-f8ca860c3c3a"
      },
      "execution_count": 28,
      "outputs": [
        {
          "output_type": "stream",
          "name": "stdout",
          "text": [
            "\n",
            "** Singlet excitation energies and oscillator strengths **\n",
            "Excited State   1:    A      0.40378 eV   3070.60 nm  f=0.0006\n",
            "      49 -> 51        0.16408\n",
            "      50 -> 51       -0.80950\n",
            "Excited State   2:    A      1.15306 eV   1075.26 nm  f=0.0131\n",
            "      50 -> 52        0.70395\n",
            "Excited State   3:    A      1.44727 eV    856.67 nm  f=0.0033\n",
            "      49 -> 51        0.68535\n",
            "      50 -> 51        0.20090\n",
            "\n",
            "** Transition electric dipole moments (AU) **\n",
            "state          X           Y           Z        Dip. S.      Osc.\n",
            "  1        -0.1983     -0.1339      0.0386      0.0587      0.0006\n",
            "  2        -0.3686      0.2556     -0.5115      0.4629      0.0131\n",
            "  3         0.2839      0.1058      0.0125      0.0920      0.0033\n",
            "\n",
            "** Transition velocity dipole moments (imaginary part, AU) **\n",
            "state          X           Y           Z        Dip. S.      Osc.\n",
            "  1         0.0251     -0.0071     -0.0032      0.0007      0.0310\n",
            "  2        -0.0177      0.0104     -0.0176      0.0007      0.0115\n",
            "  3         0.0235      0.0145     -0.0051      0.0008      0.0099\n",
            "\n",
            "** Transition magnetic dipole moments (imaginary part, AU) **\n",
            "state          X           Y           Z\n",
            "  1         0.0766     -0.1000      0.3187\n",
            "  2        -0.3308     -0.2352     -0.1124\n",
            "  3         0.0817      0.0231      0.1431\n"
          ]
        },
        {
          "output_type": "execute_result",
          "data": {
            "text/plain": [
              "<pyscf.tdscf.rks.TDDFT at 0x7c78eda05ed0>"
            ]
          },
          "metadata": {},
          "execution_count": 28
        }
      ]
    },
    {
      "cell_type": "markdown",
      "source": [
        "#### Calcul des différents états excités en utilisant la TDA"
      ],
      "metadata": {
        "id": "pLK2CyuAZ0ou"
      }
    },
    {
      "cell_type": "code",
      "source": [
        "mytda = tddft.TDA(mf)\n",
        "mytda.kernel()"
      ],
      "metadata": {
        "colab": {
          "base_uri": "https://localhost:8080/"
        },
        "id": "yeGPf-TuGPt7",
        "outputId": "4914136c-9950-4839-ac45-e6faa6477fcf"
      },
      "execution_count": 29,
      "outputs": [
        {
          "output_type": "stream",
          "name": "stdout",
          "text": [
            "Excited State energies (eV)\n",
            "[0.84680368 1.19117101 1.75959937]\n"
          ]
        },
        {
          "output_type": "execute_result",
          "data": {
            "text/plain": [
              "(array([0.03111946, 0.04377473, 0.06466408]),\n",
              " [(array([[-1.03699380e-07,  1.08741641e-07,  3.69526506e-07, ...,\n",
              "            2.10411590e-07,  4.87083807e-07, -3.35283716e-07],\n",
              "          [-1.27372486e-05,  2.70875260e-06,  2.08608772e-07, ...,\n",
              "           -2.63657882e-06,  6.48219302e-06, -4.29713701e-07],\n",
              "          [-3.99124708e-06,  1.71806341e-06, -2.69793847e-07, ...,\n",
              "            2.94822371e-07, -1.06592831e-06,  2.55178639e-07],\n",
              "          ...,\n",
              "          [ 1.10806035e-02, -2.39984236e-02,  3.39591835e-03, ...,\n",
              "           -9.43142871e-06,  4.10861084e-06,  6.78346460e-07],\n",
              "          [ 3.97535152e-01, -1.11548025e-02,  9.64728908e-03, ...,\n",
              "           -7.02441787e-06, -1.49818612e-05, -1.94352083e-05],\n",
              "          [-5.73303150e-01,  1.01958461e-02, -7.33814861e-02, ...,\n",
              "            2.26905813e-05, -4.12109867e-06, -1.26104908e-06]]),\n",
              "   0),\n",
              "  (array([[ 2.89330938e-08, -9.22816037e-08,  1.62153882e-08, ...,\n",
              "            6.23704063e-09,  1.08490016e-08, -1.65110858e-09],\n",
              "          [-1.81337133e-06,  6.18532297e-06, -9.53157699e-07, ...,\n",
              "            3.25185133e-07,  3.80599787e-07, -1.06622019e-07],\n",
              "          [-6.09987360e-07,  1.73183916e-05, -7.96195094e-07, ...,\n",
              "            8.96630597e-07, -1.69524972e-06,  6.66676826e-07],\n",
              "          ...,\n",
              "          [ 3.46413615e-02,  4.76467886e-03,  4.94000785e-03, ...,\n",
              "           -5.20734579e-06, -6.72764627e-06,  8.33682902e-06],\n",
              "          [ 8.47730013e-03, -3.51862521e-02,  2.70267219e-03, ...,\n",
              "            2.95007262e-06, -1.74039953e-06,  8.31803455e-08],\n",
              "          [ 2.37834779e-02,  7.01894356e-01, -3.28794461e-02, ...,\n",
              "            2.02786531e-06, -3.42959964e-07,  1.18582706e-06]]),\n",
              "   0),\n",
              "  (array([[-6.42514211e-08,  8.98698591e-08,  2.32435078e-07, ...,\n",
              "            1.51862263e-07,  3.11816449e-07, -2.34895414e-07],\n",
              "          [-3.84628763e-05, -1.47280357e-06,  5.40609438e-06, ...,\n",
              "            2.68747652e-06,  4.45838769e-06, -2.59387908e-06],\n",
              "          [-8.27748961e-07,  1.14881214e-06, -1.17784264e-07, ...,\n",
              "           -8.51959913e-07,  2.10112341e-07,  5.94582073e-07],\n",
              "          ...,\n",
              "          [-3.01757117e-02,  5.14841476e-02, -1.01314376e-02, ...,\n",
              "           -8.98252727e-06,  2.65413114e-06,  3.40671180e-06],\n",
              "          [ 5.60396763e-01,  7.01273882e-02,  1.24022953e-02, ...,\n",
              "            2.39678231e-05,  2.09323583e-05,  4.19393740e-06],\n",
              "          [ 3.45112307e-01, -3.81528929e-03,  2.03124043e-01, ...,\n",
              "            1.63805480e-05, -1.99314968e-05, -1.06639174e-05]]),\n",
              "   0)])"
            ]
          },
          "metadata": {},
          "execution_count": 29
        }
      ]
    },
    {
      "cell_type": "markdown",
      "source": [
        "#### Détails sur les différentes énergies des états excités singulets après un calcul TDA"
      ],
      "metadata": {
        "id": "cki2-VP2Z9O4"
      }
    },
    {
      "cell_type": "code",
      "source": [
        "mytda.analyze(verbose=5)"
      ],
      "metadata": {
        "colab": {
          "base_uri": "https://localhost:8080/"
        },
        "id": "-_281-oYGPkd",
        "outputId": "4c2d7401-e89e-4e5c-d4d7-b774484c4358"
      },
      "execution_count": 30,
      "outputs": [
        {
          "output_type": "stream",
          "name": "stdout",
          "text": [
            "\n",
            "** Singlet excitation energies and oscillator strengths **\n",
            "Excited State   1:    A      0.84680 eV   1464.14 nm  f=0.0030\n",
            "      49 -> 51        0.39754\n",
            "      50 -> 51       -0.57330\n",
            "Excited State   2:    A      1.19117 eV   1040.86 nm  f=0.0190\n",
            "      50 -> 52        0.70189\n",
            "Excited State   3:    A      1.75960 eV    704.62 nm  f=0.0119\n",
            "      49 -> 51        0.56040\n",
            "      50 -> 51        0.34511\n",
            "      50 -> 53        0.20312\n",
            "\n",
            "** Transition electric dipole moments (AU) **\n",
            "state          X           Y           Z        Dip. S.      Osc.\n",
            "  1        -0.3057     -0.2224      0.0548      0.1459      0.0030\n",
            "  2        -0.4360      0.3093     -0.6052      0.6520      0.0190\n",
            "  3         0.4649      0.2432     -0.0146      0.2755      0.0119\n",
            "\n",
            "** Transition velocity dipole moments (imaginary part, AU) **\n",
            "state          X           Y           Z        Dip. S.      Osc.\n",
            "  1         0.1722      0.1181     -0.0280      0.0444      0.9506\n",
            "  2         0.0530     -0.0556      0.1016      0.0162      0.2470\n",
            "  3        -0.1922     -0.1843     -0.0004      0.0709      0.7310\n",
            "\n",
            "** Transition magnetic dipole moments (imaginary part, AU) **\n",
            "state          X           Y           Z\n",
            "  1        -0.0205     -0.0534      0.1311\n",
            "  2        -0.2998     -0.3002     -0.1029\n",
            "  3         0.1131      0.0059      0.1823\n"
          ]
        },
        {
          "output_type": "execute_result",
          "data": {
            "text/plain": [
              "<pyscf.tdscf.rks.TDA at 0x7c78e23b3ee0>"
            ]
          },
          "metadata": {},
          "execution_count": 30
        }
      ]
    },
    {
      "cell_type": "markdown",
      "source": [
        "#### Calcul des différentes énergies des états excités singulets"
      ],
      "metadata": {
        "id": "UKqAWxBDa8RS"
      }
    },
    {
      "cell_type": "code",
      "source": [
        "ee_singlets = mytda.e"
      ],
      "metadata": {
        "id": "nFhASzMJGPb5"
      },
      "execution_count": 31,
      "outputs": []
    },
    {
      "cell_type": "markdown",
      "source": [
        "#### Énergie de l'état fondamentale $ S_0 $"
      ],
      "metadata": {
        "id": "Shr1UyMZaqrX"
      }
    },
    {
      "cell_type": "code",
      "source": [
        "S0 = min(ee_singlets)\n",
        "print(f'Énergie fondamentale est : {S0}')"
      ],
      "metadata": {
        "colab": {
          "base_uri": "https://localhost:8080/"
        },
        "id": "a4RGhr-HGPQx",
        "outputId": "cd1623b6-ded2-42bb-fa35-d22dd21f6821"
      },
      "execution_count": 32,
      "outputs": [
        {
          "output_type": "stream",
          "name": "stdout",
          "text": [
            "Énergie fondamentale est : 0.031119461353195453\n"
          ]
        }
      ]
    },
    {
      "cell_type": "markdown",
      "source": [
        "#### Énergie du 1er état excité singulet $ S_1 $"
      ],
      "metadata": {
        "id": "1qHB2q73aksm"
      }
    },
    {
      "cell_type": "code",
      "source": [
        "S1 = sorted(ee_singlets)[1]\n",
        "print(f'Énergie du 1er état excité singulet est : {S1}')"
      ],
      "metadata": {
        "colab": {
          "base_uri": "https://localhost:8080/"
        },
        "id": "upWb5-EhI-gV",
        "outputId": "017e10ac-b878-480d-893a-31dfb0d6f6c4"
      },
      "execution_count": 33,
      "outputs": [
        {
          "output_type": "stream",
          "name": "stdout",
          "text": [
            "Énergie du 1er état excité singulet est : 0.04377472764503196\n"
          ]
        }
      ]
    },
    {
      "cell_type": "markdown",
      "source": [
        "#### Force d'oscillateur sans unité"
      ],
      "metadata": {
        "id": "gDtBFXs0aUEI"
      }
    },
    {
      "cell_type": "code",
      "source": [
        "OS_singlets = mytda.oscillator_strength(gauge='length')"
      ],
      "metadata": {
        "id": "nvCMgVInGy9d"
      },
      "execution_count": 34,
      "outputs": []
    },
    {
      "cell_type": "markdown",
      "source": [
        "#### Détails sur les différentes énergies des états excités triplets après un calcul TDA"
      ],
      "metadata": {
        "id": "Piwwpe80aPd7"
      }
    },
    {
      "cell_type": "code",
      "source": [
        "mytda.singlet = False\n",
        "mytda.kernel()"
      ],
      "metadata": {
        "colab": {
          "base_uri": "https://localhost:8080/"
        },
        "id": "i4K4oZtGGyr2",
        "outputId": "4148cdba-1ca7-4b69-dbb6-d44622c17d46"
      },
      "execution_count": 35,
      "outputs": [
        {
          "output_type": "stream",
          "name": "stdout",
          "text": [
            "Excited State energies (eV)\n",
            "[0.90548679 0.93116247 1.89541941]\n"
          ]
        },
        {
          "output_type": "execute_result",
          "data": {
            "text/plain": [
              "(array([0.03327603, 0.03421959, 0.06965538]),\n",
              " [(array([[-3.54741089e-07,  3.44437848e-09, -1.30501752e-07, ...,\n",
              "            3.06156702e-08,  4.71742993e-08, -1.15675820e-08],\n",
              "          [ 9.15757519e-06, -6.86486487e-07,  6.69701093e-07, ...,\n",
              "           -6.38562531e-07,  4.45730369e-07,  1.61599024e-07],\n",
              "          [-3.23191131e-06,  5.32374758e-07, -3.37417356e-06, ...,\n",
              "            8.26907179e-07, -7.71360362e-07,  1.77146071e-07],\n",
              "          ...,\n",
              "          [ 2.93292536e-03, -2.00022789e-02,  4.30598469e-03, ...,\n",
              "            7.01164349e-06, -6.14891047e-06,  4.16103349e-07],\n",
              "          [ 7.00303073e-01, -3.28313698e-02,  2.82321073e-02, ...,\n",
              "           -1.42114327e-05, -4.28485515e-06,  2.15219978e-05],\n",
              "          [-4.89441068e-02, -4.48997050e-02, -8.05615142e-04, ...,\n",
              "           -6.90519979e-06,  1.81741787e-06,  6.72620386e-06]]),\n",
              "   0),\n",
              "  (array([[ 2.78819284e-08, -3.23545397e-08,  4.74218592e-08, ...,\n",
              "            3.25196837e-09, -7.41302242e-10,  1.87500368e-11],\n",
              "          [ 1.24528099e-07, -1.98077064e-06,  1.33515661e-07, ...,\n",
              "            1.76174159e-07, -6.00386033e-08, -1.49402063e-08],\n",
              "          [ 4.52536685e-09, -4.53818112e-08,  9.56612482e-07, ...,\n",
              "            4.84833509e-08, -3.05368872e-08,  8.79279957e-09],\n",
              "          ...,\n",
              "          [ 1.86531072e-02,  5.56997405e-03, -1.03390732e-03, ...,\n",
              "           -7.29482966e-06,  3.94073127e-06,  5.95525091e-06],\n",
              "          [-4.39219897e-02,  1.31581440e-02, -2.81901370e-03, ...,\n",
              "           -2.04074810e-06,  9.89460562e-07, -9.77778504e-07],\n",
              "          [ 1.86409172e-03, -7.02408897e-01,  4.51454893e-02, ...,\n",
              "            1.76582089e-06, -2.77310923e-06, -1.60614116e-06]]),\n",
              "   0),\n",
              "  (array([[-1.13845744e-08, -1.47405063e-07,  1.29787494e-07, ...,\n",
              "            1.83006839e-08,  9.23592454e-09, -1.18163274e-09],\n",
              "          [-3.74875135e-08,  2.69554309e-06, -4.76706660e-07, ...,\n",
              "           -1.60491419e-07, -9.17533538e-09,  3.65520082e-08],\n",
              "          [ 3.79212402e-07, -4.54550565e-06,  8.94190653e-07, ...,\n",
              "            5.33528117e-08, -6.07792577e-08,  4.44519529e-09],\n",
              "          ...,\n",
              "          [-6.26742484e-02,  4.11285183e-03, -1.05184414e-03, ...,\n",
              "           -1.36483969e-05,  4.71810968e-07, -1.54980458e-05],\n",
              "          [ 3.47683059e-02,  6.97326735e-01, -4.76474214e-02, ...,\n",
              "           -5.91218708e-06,  2.32110376e-06, -4.14595280e-06],\n",
              "          [-6.95226702e-04,  9.09095950e-03, -9.57676359e-04, ...,\n",
              "            2.00559621e-06, -2.17944052e-07,  1.60518082e-07]]),\n",
              "   0)])"
            ]
          },
          "metadata": {},
          "execution_count": 35
        }
      ]
    },
    {
      "cell_type": "markdown",
      "source": [
        "#### Détails sur les différentes énergies des états excités triplets après un calcul TDA"
      ],
      "metadata": {
        "id": "ardVej8LbOgi"
      }
    },
    {
      "cell_type": "code",
      "source": [
        "mytda.analyze(verbose=5)"
      ],
      "metadata": {
        "colab": {
          "base_uri": "https://localhost:8080/"
        },
        "id": "nsuMgNxSGyiz",
        "outputId": "ae9d649d-7d49-4ad8-99f8-a8dc15d84b9b"
      },
      "execution_count": 36,
      "outputs": [
        {
          "output_type": "stream",
          "name": "stdout",
          "text": [
            "\n",
            "** Triplet excitation energies and oscillator strengths **\n",
            "Excited State   1:    A      0.90549 eV   1369.25 nm  f=0.0136\n",
            "      49 -> 51        0.70030\n",
            "Excited State   2:    A      0.93116 eV   1331.50 nm  f=0.0278\n",
            "      50 -> 52       -0.70241\n",
            "Excited State   3:    A      1.89542 eV    654.13 nm  f=0.0003\n",
            "      49 -> 52        0.69733\n",
            "\n",
            "** Transition electric dipole moments (AU) **\n",
            "state          X           Y           Z        Dip. S.      Osc.\n",
            "  1         0.7270      0.2875     -0.0270      0.6119      0.0136\n",
            "  2         0.5855     -0.4253      0.8337      1.2187      0.0278\n",
            "  3        -0.0806      0.0236     -0.0113      0.0072      0.0003\n",
            "\n",
            "** Transition velocity dipole moments (imaginary part, AU) **\n",
            "state          X           Y           Z        Dip. S.      Osc.\n",
            "  1         0.0603      0.0269     -0.0093      0.0045      0.0892\n",
            "  2         0.0292     -0.0214      0.0400      0.0029      0.0568\n",
            "  3        -0.0020     -0.0079      0.0160      0.0003      0.0031\n",
            "\n",
            "** Transition magnetic dipole moments (imaginary part, AU) **\n",
            "state          X           Y           Z\n",
            "  1         0.0971     -0.0041      0.2081\n",
            "  2         0.2606      0.1722      0.1127\n",
            "  3        -0.4725     -0.0915      0.0604\n"
          ]
        },
        {
          "output_type": "execute_result",
          "data": {
            "text/plain": [
              "<pyscf.tdscf.rks.TDA at 0x7c78e23b3ee0>"
            ]
          },
          "metadata": {},
          "execution_count": 36
        }
      ]
    },
    {
      "cell_type": "markdown",
      "source": [
        "#### Énergie du 1er état triplet"
      ],
      "metadata": {
        "id": "Gxp90jadbS4y"
      }
    },
    {
      "cell_type": "code",
      "source": [
        "ee_triplets = mytda.e\n",
        "T1 = min(ee_triplets)\n",
        "print(f'Énergie du 1er état triplet est : {T1}')"
      ],
      "metadata": {
        "colab": {
          "base_uri": "https://localhost:8080/"
        },
        "id": "Ia2lPVlSGyXT",
        "outputId": "93777b8d-d841-42a9-c56e-167d774e46b7"
      },
      "execution_count": 37,
      "outputs": [
        {
          "output_type": "stream",
          "name": "stdout",
          "text": [
            "Énergie du 1er état triplet est : 0.03327602599401798\n"
          ]
        }
      ]
    },
    {
      "cell_type": "markdown",
      "source": [
        "#### Énergie de fluorescence"
      ],
      "metadata": {
        "id": "Xl5geQpQbZdR"
      }
    },
    {
      "cell_type": "code",
      "source": [
        "f_energy = (S1 - S0)*au2ev\n",
        "print(f'Énergie de fluorescence est : {f_energy} eV')"
      ],
      "metadata": {
        "colab": {
          "base_uri": "https://localhost:8080/"
        },
        "id": "riN3eKZUH2Py",
        "outputId": "5ec4e888-b157-4deb-808b-461225e75df5"
      },
      "execution_count": 40,
      "outputs": [
        {
          "output_type": "stream",
          "name": "stdout",
          "text": [
            "Énergie de fluorescence est : 0.3443673362530571 eV\n"
          ]
        }
      ]
    },
    {
      "cell_type": "markdown",
      "source": [
        "#### Énergie de gap(Singulet-triplet) :\n",
        "$ ΔE_{S-T} = S_1 - T_1$"
      ],
      "metadata": {
        "id": "lAyrCuQPbe56"
      }
    },
    {
      "cell_type": "code",
      "source": [
        "gap_ST = (S1 - T1)*au2ev\n",
        "print(f'Gap(Singulet-triplet) est : {gap_ST} eV')"
      ],
      "metadata": {
        "colab": {
          "base_uri": "https://localhost:8080/"
        },
        "id": "S_YmHviTH2E6",
        "outputId": "e8f04949-b809-4e5f-abdc-8c49bb2a804e"
      },
      "execution_count": 41,
      "outputs": [
        {
          "output_type": "stream",
          "name": "stdout",
          "text": [
            "Gap(Singulet-triplet) est : 0.2856842233345527 eV\n"
          ]
        }
      ]
    },
    {
      "cell_type": "markdown",
      "source": [
        "#### Force d'oscillateur"
      ],
      "metadata": {
        "id": "zRP-UQidb4Cl"
      }
    },
    {
      "cell_type": "code",
      "source": [
        "OStr = OS_singlets[0]\n",
        "print(f'Force d oscillateur est : {OStr}')"
      ],
      "metadata": {
        "colab": {
          "base_uri": "https://localhost:8080/"
        },
        "id": "EfECcKPnRWib",
        "outputId": "65391afa-69c2-4662-e5d8-ea4ad6dcedc4"
      },
      "execution_count": 42,
      "outputs": [
        {
          "output_type": "stream",
          "name": "stdout",
          "text": [
            "Force d oscillateur est : 0.0030263868918265924\n"
          ]
        }
      ]
    },
    {
      "cell_type": "markdown",
      "source": [
        "#### Durée de vie"
      ],
      "metadata": {
        "id": "yk8AtT_zb9yc"
      }
    },
    {
      "cell_type": "code",
      "source": [
        "time_au = 2.4188843265857E-17\n",
        "tau_au = 2.3046*(10^(-8)) /  ((f_energy**2) * OStr)\n",
        "tau = tau_au * time_au * 1e9\n",
        "print(f'Durée de vie est : {tau} ns')"
      ],
      "metadata": {
        "colab": {
          "base_uri": "https://localhost:8080/"
        },
        "id": "bDp71_4CH15u",
        "outputId": "8d944f42-9744-4a11-8d32-465d6476b693"
      },
      "execution_count": 52,
      "outputs": [
        {
          "output_type": "stream",
          "name": "stdout",
          "text": [
            "Durée de vie est : -0.002174554736562725 ns\n"
          ]
        }
      ]
    },
    {
      "cell_type": "code",
      "source": [
        "import numpy as np"
      ],
      "metadata": {
        "id": "rnY1isNZSaZF"
      },
      "execution_count": 48,
      "outputs": []
    },
    {
      "cell_type": "markdown",
      "source": [
        "#### Fonction multiobjective"
      ],
      "metadata": {
        "id": "lFoU-ejNcBh9"
      }
    },
    {
      "cell_type": "code",
      "source": [
        "mobj = OStr - gap_ST - np.abs(f_energy - 3.2)\n",
        "print(f'Fonction multiobjective est : {mobj} eV')"
      ],
      "metadata": {
        "colab": {
          "base_uri": "https://localhost:8080/"
        },
        "id": "Mj4g_oC9SDZM",
        "outputId": "6eef8586-27fe-4c7b-8a6f-80ae9eade671"
      },
      "execution_count": 49,
      "outputs": [
        {
          "output_type": "stream",
          "name": "stdout",
          "text": [
            "Fonction multiobjective est : -3.1382905001896693 eV\n"
          ]
        }
      ]
    },
    {
      "cell_type": "markdown",
      "source": [
        "#### Tableau récapitulatif de mes différents calculs"
      ],
      "metadata": {
        "id": "AWzbSsTwcIPk"
      }
    },
    {
      "cell_type": "code",
      "source": [
        "# Définition des listes de résultats\n",
        "list_results_TDA = [\n",
        "    E_Homo,\n",
        "    E_Lumo,\n",
        "    E_gap,\n",
        "    f_energy,\n",
        "    gap_ST,\n",
        "    OStr,\n",
        "    tau,\n",
        "    mobj\n",
        "]\n",
        "\n",
        "# Création des dictionnaires\n",
        "dict_results_TDA = {'eV/ns': list_results_TDA}\n",
        "\n",
        "# Création du DataFrame\n",
        "index = [\n",
        "    'Homo energy',\n",
        "    'LUMO energy',\n",
        "    'Gap energy',\n",
        "    'Fluorescence energy',\n",
        "    'Singlet-Triplet gap',\n",
        "    'Oscillator strength',\n",
        "    'Lifetime',\n",
        "    'Multi-Obj'\n",
        "]\n",
        "\n",
        "df_TDA = pd.DataFrame(dict_results_TDA)\n",
        "df_TDA.index = index\n",
        "\n",
        "# Affichage du DataFrame\n",
        "df_TDA"
      ],
      "metadata": {
        "colab": {
          "base_uri": "https://localhost:8080/",
          "height": 300
        },
        "id": "tMvDGgbhSotH",
        "outputId": "c4a7b2d0-eeae-4511-8985-b2774d1b4de9"
      },
      "execution_count": 50,
      "outputs": [
        {
          "output_type": "execute_result",
          "data": {
            "text/plain": [
              "                        eV/ns\n",
              "Homo energy         -1.153056\n",
              "LUMO energy          0.244937\n",
              "Gap energy           1.397993\n",
              "Fluorescence energy  0.344367\n",
              "Singlet-Triplet gap  0.285684\n",
              "Oscillator strength  0.003026\n",
              "Lifetime            -0.002175\n",
              "Multi-Obj           -3.138291"
            ],
            "text/html": [
              "\n",
              "  <div id=\"df-e3ba0642-a4b8-488b-99db-f5dff85bcec0\" class=\"colab-df-container\">\n",
              "    <div>\n",
              "<style scoped>\n",
              "    .dataframe tbody tr th:only-of-type {\n",
              "        vertical-align: middle;\n",
              "    }\n",
              "\n",
              "    .dataframe tbody tr th {\n",
              "        vertical-align: top;\n",
              "    }\n",
              "\n",
              "    .dataframe thead th {\n",
              "        text-align: right;\n",
              "    }\n",
              "</style>\n",
              "<table border=\"1\" class=\"dataframe\">\n",
              "  <thead>\n",
              "    <tr style=\"text-align: right;\">\n",
              "      <th></th>\n",
              "      <th>eV/ns</th>\n",
              "    </tr>\n",
              "  </thead>\n",
              "  <tbody>\n",
              "    <tr>\n",
              "      <th>Homo energy</th>\n",
              "      <td>-1.153056</td>\n",
              "    </tr>\n",
              "    <tr>\n",
              "      <th>LUMO energy</th>\n",
              "      <td>0.244937</td>\n",
              "    </tr>\n",
              "    <tr>\n",
              "      <th>Gap energy</th>\n",
              "      <td>1.397993</td>\n",
              "    </tr>\n",
              "    <tr>\n",
              "      <th>Fluorescence energy</th>\n",
              "      <td>0.344367</td>\n",
              "    </tr>\n",
              "    <tr>\n",
              "      <th>Singlet-Triplet gap</th>\n",
              "      <td>0.285684</td>\n",
              "    </tr>\n",
              "    <tr>\n",
              "      <th>Oscillator strength</th>\n",
              "      <td>0.003026</td>\n",
              "    </tr>\n",
              "    <tr>\n",
              "      <th>Lifetime</th>\n",
              "      <td>-0.002175</td>\n",
              "    </tr>\n",
              "    <tr>\n",
              "      <th>Multi-Obj</th>\n",
              "      <td>-3.138291</td>\n",
              "    </tr>\n",
              "  </tbody>\n",
              "</table>\n",
              "</div>\n",
              "    <div class=\"colab-df-buttons\">\n",
              "\n",
              "  <div class=\"colab-df-container\">\n",
              "    <button class=\"colab-df-convert\" onclick=\"convertToInteractive('df-e3ba0642-a4b8-488b-99db-f5dff85bcec0')\"\n",
              "            title=\"Convert this dataframe to an interactive table.\"\n",
              "            style=\"display:none;\">\n",
              "\n",
              "  <svg xmlns=\"http://www.w3.org/2000/svg\" height=\"24px\" viewBox=\"0 -960 960 960\">\n",
              "    <path d=\"M120-120v-720h720v720H120Zm60-500h600v-160H180v160Zm220 220h160v-160H400v160Zm0 220h160v-160H400v160ZM180-400h160v-160H180v160Zm440 0h160v-160H620v160ZM180-180h160v-160H180v160Zm440 0h160v-160H620v160Z\"/>\n",
              "  </svg>\n",
              "    </button>\n",
              "\n",
              "  <style>\n",
              "    .colab-df-container {\n",
              "      display:flex;\n",
              "      gap: 12px;\n",
              "    }\n",
              "\n",
              "    .colab-df-convert {\n",
              "      background-color: #E8F0FE;\n",
              "      border: none;\n",
              "      border-radius: 50%;\n",
              "      cursor: pointer;\n",
              "      display: none;\n",
              "      fill: #1967D2;\n",
              "      height: 32px;\n",
              "      padding: 0 0 0 0;\n",
              "      width: 32px;\n",
              "    }\n",
              "\n",
              "    .colab-df-convert:hover {\n",
              "      background-color: #E2EBFA;\n",
              "      box-shadow: 0px 1px 2px rgba(60, 64, 67, 0.3), 0px 1px 3px 1px rgba(60, 64, 67, 0.15);\n",
              "      fill: #174EA6;\n",
              "    }\n",
              "\n",
              "    .colab-df-buttons div {\n",
              "      margin-bottom: 4px;\n",
              "    }\n",
              "\n",
              "    [theme=dark] .colab-df-convert {\n",
              "      background-color: #3B4455;\n",
              "      fill: #D2E3FC;\n",
              "    }\n",
              "\n",
              "    [theme=dark] .colab-df-convert:hover {\n",
              "      background-color: #434B5C;\n",
              "      box-shadow: 0px 1px 3px 1px rgba(0, 0, 0, 0.15);\n",
              "      filter: drop-shadow(0px 1px 2px rgba(0, 0, 0, 0.3));\n",
              "      fill: #FFFFFF;\n",
              "    }\n",
              "  </style>\n",
              "\n",
              "    <script>\n",
              "      const buttonEl =\n",
              "        document.querySelector('#df-e3ba0642-a4b8-488b-99db-f5dff85bcec0 button.colab-df-convert');\n",
              "      buttonEl.style.display =\n",
              "        google.colab.kernel.accessAllowed ? 'block' : 'none';\n",
              "\n",
              "      async function convertToInteractive(key) {\n",
              "        const element = document.querySelector('#df-e3ba0642-a4b8-488b-99db-f5dff85bcec0');\n",
              "        const dataTable =\n",
              "          await google.colab.kernel.invokeFunction('convertToInteractive',\n",
              "                                                    [key], {});\n",
              "        if (!dataTable) return;\n",
              "\n",
              "        const docLinkHtml = 'Like what you see? Visit the ' +\n",
              "          '<a target=\"_blank\" href=https://colab.research.google.com/notebooks/data_table.ipynb>data table notebook</a>'\n",
              "          + ' to learn more about interactive tables.';\n",
              "        element.innerHTML = '';\n",
              "        dataTable['output_type'] = 'display_data';\n",
              "        await google.colab.output.renderOutput(dataTable, element);\n",
              "        const docLink = document.createElement('div');\n",
              "        docLink.innerHTML = docLinkHtml;\n",
              "        element.appendChild(docLink);\n",
              "      }\n",
              "    </script>\n",
              "  </div>\n",
              "\n",
              "\n",
              "<div id=\"df-a31ecc74-daf0-4f2a-95e6-d1e6748bf162\">\n",
              "  <button class=\"colab-df-quickchart\" onclick=\"quickchart('df-a31ecc74-daf0-4f2a-95e6-d1e6748bf162')\"\n",
              "            title=\"Suggest charts\"\n",
              "            style=\"display:none;\">\n",
              "\n",
              "<svg xmlns=\"http://www.w3.org/2000/svg\" height=\"24px\"viewBox=\"0 0 24 24\"\n",
              "     width=\"24px\">\n",
              "    <g>\n",
              "        <path d=\"M19 3H5c-1.1 0-2 .9-2 2v14c0 1.1.9 2 2 2h14c1.1 0 2-.9 2-2V5c0-1.1-.9-2-2-2zM9 17H7v-7h2v7zm4 0h-2V7h2v10zm4 0h-2v-4h2v4z\"/>\n",
              "    </g>\n",
              "</svg>\n",
              "  </button>\n",
              "\n",
              "<style>\n",
              "  .colab-df-quickchart {\n",
              "      --bg-color: #E8F0FE;\n",
              "      --fill-color: #1967D2;\n",
              "      --hover-bg-color: #E2EBFA;\n",
              "      --hover-fill-color: #174EA6;\n",
              "      --disabled-fill-color: #AAA;\n",
              "      --disabled-bg-color: #DDD;\n",
              "  }\n",
              "\n",
              "  [theme=dark] .colab-df-quickchart {\n",
              "      --bg-color: #3B4455;\n",
              "      --fill-color: #D2E3FC;\n",
              "      --hover-bg-color: #434B5C;\n",
              "      --hover-fill-color: #FFFFFF;\n",
              "      --disabled-bg-color: #3B4455;\n",
              "      --disabled-fill-color: #666;\n",
              "  }\n",
              "\n",
              "  .colab-df-quickchart {\n",
              "    background-color: var(--bg-color);\n",
              "    border: none;\n",
              "    border-radius: 50%;\n",
              "    cursor: pointer;\n",
              "    display: none;\n",
              "    fill: var(--fill-color);\n",
              "    height: 32px;\n",
              "    padding: 0;\n",
              "    width: 32px;\n",
              "  }\n",
              "\n",
              "  .colab-df-quickchart:hover {\n",
              "    background-color: var(--hover-bg-color);\n",
              "    box-shadow: 0 1px 2px rgba(60, 64, 67, 0.3), 0 1px 3px 1px rgba(60, 64, 67, 0.15);\n",
              "    fill: var(--button-hover-fill-color);\n",
              "  }\n",
              "\n",
              "  .colab-df-quickchart-complete:disabled,\n",
              "  .colab-df-quickchart-complete:disabled:hover {\n",
              "    background-color: var(--disabled-bg-color);\n",
              "    fill: var(--disabled-fill-color);\n",
              "    box-shadow: none;\n",
              "  }\n",
              "\n",
              "  .colab-df-spinner {\n",
              "    border: 2px solid var(--fill-color);\n",
              "    border-color: transparent;\n",
              "    border-bottom-color: var(--fill-color);\n",
              "    animation:\n",
              "      spin 1s steps(1) infinite;\n",
              "  }\n",
              "\n",
              "  @keyframes spin {\n",
              "    0% {\n",
              "      border-color: transparent;\n",
              "      border-bottom-color: var(--fill-color);\n",
              "      border-left-color: var(--fill-color);\n",
              "    }\n",
              "    20% {\n",
              "      border-color: transparent;\n",
              "      border-left-color: var(--fill-color);\n",
              "      border-top-color: var(--fill-color);\n",
              "    }\n",
              "    30% {\n",
              "      border-color: transparent;\n",
              "      border-left-color: var(--fill-color);\n",
              "      border-top-color: var(--fill-color);\n",
              "      border-right-color: var(--fill-color);\n",
              "    }\n",
              "    40% {\n",
              "      border-color: transparent;\n",
              "      border-right-color: var(--fill-color);\n",
              "      border-top-color: var(--fill-color);\n",
              "    }\n",
              "    60% {\n",
              "      border-color: transparent;\n",
              "      border-right-color: var(--fill-color);\n",
              "    }\n",
              "    80% {\n",
              "      border-color: transparent;\n",
              "      border-right-color: var(--fill-color);\n",
              "      border-bottom-color: var(--fill-color);\n",
              "    }\n",
              "    90% {\n",
              "      border-color: transparent;\n",
              "      border-bottom-color: var(--fill-color);\n",
              "    }\n",
              "  }\n",
              "</style>\n",
              "\n",
              "  <script>\n",
              "    async function quickchart(key) {\n",
              "      const quickchartButtonEl =\n",
              "        document.querySelector('#' + key + ' button');\n",
              "      quickchartButtonEl.disabled = true;  // To prevent multiple clicks.\n",
              "      quickchartButtonEl.classList.add('colab-df-spinner');\n",
              "      try {\n",
              "        const charts = await google.colab.kernel.invokeFunction(\n",
              "            'suggestCharts', [key], {});\n",
              "      } catch (error) {\n",
              "        console.error('Error during call to suggestCharts:', error);\n",
              "      }\n",
              "      quickchartButtonEl.classList.remove('colab-df-spinner');\n",
              "      quickchartButtonEl.classList.add('colab-df-quickchart-complete');\n",
              "    }\n",
              "    (() => {\n",
              "      let quickchartButtonEl =\n",
              "        document.querySelector('#df-a31ecc74-daf0-4f2a-95e6-d1e6748bf162 button');\n",
              "      quickchartButtonEl.style.display =\n",
              "        google.colab.kernel.accessAllowed ? 'block' : 'none';\n",
              "    })();\n",
              "  </script>\n",
              "</div>\n",
              "    </div>\n",
              "  </div>\n"
            ],
            "application/vnd.google.colaboratory.intrinsic+json": {
              "type": "dataframe",
              "variable_name": "df_TDA",
              "summary": "{\n  \"name\": \"df_TDA\",\n  \"rows\": 8,\n  \"fields\": [\n    {\n      \"column\": \"eV/ns\",\n      \"properties\": {\n        \"dtype\": \"number\",\n        \"std\": 1.3566875331977346,\n        \"min\": -3.1382905001896693,\n        \"max\": 1.3979930218237475,\n        \"num_unique_values\": 8,\n        \"samples\": [\n          0.2449369622832596,\n          0.0030263868918265924,\n          -1.1530560595404882\n        ],\n        \"semantic_type\": \"\",\n        \"description\": \"\"\n      }\n    }\n  ]\n}"
            }
          },
          "metadata": {},
          "execution_count": 50
        }
      ]
    },
    {
      "cell_type": "code",
      "source": [],
      "metadata": {
        "id": "NIPengZMc5_V"
      },
      "execution_count": null,
      "outputs": []
    }
  ]
}