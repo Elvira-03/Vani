{
 "cells": [
  {
   "cell_type": "code",
   "execution_count": 2,
   "id": "2543228e-68c3-4749-adc3-ac2926693b6e",
   "metadata": {},
   "outputs": [
    {
     "name": "stdout",
     "output_type": "stream",
     "text": [
      "PSPCz C1=CC=C(C=C1)S(=O)(=O)C2=CC=CC3=C2NC4=CC=CC=C34\n",
      "4CzIPN C1=CC=C2C(=C1)C3=CC=CC=C3N2C4=C(C(=C(C(=C4C#N)N5C6=CC=CC=C6C7=CC=CC=C75)N8C9=CC=CC=C9C1=CC=CC=C18)N1C2=CC=CC=C2C2=CC=CC=C21)C#N\n",
      "DMAC1 CC1(C2=CC=CC=C2NC3=CC=CC=C31)C\n",
      "DMAC2 C1=CC=C2C(=C1)NC3=CC=CC=C3O2\n",
      "AZB1 B1=CC=NC=C1\n"
     ]
    }
   ],
   "source": [
    "from rdkit import Chem\n",
    "from rdkit.Chem import AllChem, Descriptors\n",
    "\n",
    "smile_dict = {\n",
    "    'PSPCz': 'C1=CC=C(C=C1)S(=O)(=O)C2=CC=CC3=C2NC4=CC=CC=C34',\n",
    "    '4CzIPN': 'C1=CC=C2C(=C1)C3=CC=CC=C3N2C4=C(C(=C(C(=C4C#N)N5C6=CC=CC=C6C7=CC=CC=C75)N8C9=CC=CC=C9C1=CC=CC=C18)N1C2=CC=CC=C2C2=CC=CC=C21)C#N',\n",
    "    'DMAC1': 'CC1(C2=CC=CC=C2NC3=CC=CC=C31)C',\n",
    "    'DMAC2': 'C1=CC=C2C(=C1)NC3=CC=CC=C3O2',\n",
    "    'AZB1': 'B1=CC=NC=C1'\n",
    "}\n",
    "\n",
    "for key, value in smile_dict.items():\n",
    "    print(key, value)"
   ]
  },
  {
   "cell_type": "code",
   "execution_count": 4,
   "id": "4a3c207d-23bd-4b4d-8d55-557e77b346cd",
   "metadata": {},
   "outputs": [],
   "source": [
    "import rdkit\n",
    "import os"
   ]
  },
  {
   "cell_type": "code",
   "execution_count": 3,
   "id": "fb491ce9-355a-4ab4-855d-127f38e22014",
   "metadata": {},
   "outputs": [
    {
     "name": "stderr",
     "output_type": "stream",
     "text": [
      "[15:55:30] UFFTYPER: Unrecognized atom type: B_1 (0)\n"
     ]
    }
   ],
   "source": [
    "for key, value in smile_dict.items():\n",
    "    mol = Chem.MolFromSmiles(value)\n",
    "    mol = Chem.AddHs(mol)\n",
    "    rdkit.Chem.AllChem.EmbedMolecule(mol) # Génère la molécule en 3D\n",
    "    rdkit.Chem.AllChem.MMFFOptimizeMolecule(mol) # Optimise \n",
    "    output_directory = 'data'\n",
    "    if not os.path.exists(output_directory):\n",
    "        os.makedirs(output_directory)\n",
    "    output_filename = os.path.join(output_directory,key +'.xyz')\n",
    "    rdkit.Chem.MolToXYZFile(mol, output_filename)"
   ]
  },
  {
   "cell_type": "code",
   "execution_count": 41,
   "id": "8b3fe608-f910-432d-9319-842c1c971209",
   "metadata": {},
   "outputs": [],
   "source": [
    "key_2 = '4CzIPN'\n",
    "smi = 'C1=CC=C2C(=C1)C3=CC=CC=C3N2C4=C(C(=C(C(=C4C#N)N5C6=CC=CC=C6C7=CC=CC=C75)N8C9=CC=CC=C9C1=CC=CC=C18)N1C2=CC=CC=C2C2=CC=CC=C21)C#N'\n",
    "m2 = Chem.MolFromSmiles(smi)\n",
    "mol2 = Chem.AddHs(m2)\n",
    "rdkit.Chem.AllChem.EmbedMolecule(mol2) # Génère la molécule en 3D\n",
    "rdkit.Chem.AllChem.MMFFOptimizeMolecule(mol2) # Optimise \n",
    "output_directory = 'data'\n",
    "if not os.path.exists(output_directory):\n",
    "    os.makedirs(output_directory)\n",
    "output_filename = os.path.join(output_directory, '{Smile_dict_4CzIPN}.xyz')\n",
    "rdkit.Chem.MolToXYZFile(mol2, output_filename)"
   ]
  },
  {
   "cell_type": "code",
   "execution_count": 42,
   "id": "af368749-42c5-4c5c-ade0-a25c93b3dfb8",
   "metadata": {},
   "outputs": [
    {
     "name": "stdout",
     "output_type": "stream",
     "text": [
      "Our molecular properties are:\n",
      " Molecular weight:788.2688450240009,\n",
      " Hbd:0, \n",
      " Hba:6 \n",
      " polarity:67.3, \n",
      " solubility:13.818359999999974, \n",
      " Quantitative drug-likeness:0.17820432764363198\n"
     ]
    }
   ],
   "source": [
    "molwt = Descriptors.ExactMolWt(mol2) \n",
    "logP = Descriptors.MolLogP(mol2) \n",
    "hbd = Descriptors.NumHDonors(mol2)\n",
    "hba = Descriptors.NumHAcceptors(mol2)\n",
    "tpsa = Descriptors.TPSA(mol2) \n",
    "Qed = Chem.QED.qed(mol2)  \n",
    "print(f'Our molecular properties are:\\n Molecular weight:{molwt},\\n Hbd:{hbd}, \\n Hba:{hba} \\n polarity:{tpsa}, \\n solubility:{logP}, \\n Quantitative drug-likeness:{Qed}')"
   ]
  },
  {
   "cell_type": "code",
   "execution_count": 43,
   "id": "98c7ee4b-c83e-40de-9aaa-3cc519d5c57f",
   "metadata": {},
   "outputs": [],
   "source": [
    "Descripteurs = [molwt,logP,hbd,hba,tpsa,Qed]"
   ]
  },
  {
   "cell_type": "code",
   "execution_count": 44,
   "id": "f460543a-82b2-4728-abe1-25bf889a5033",
   "metadata": {},
   "outputs": [],
   "source": [
    "import pandas as pd"
   ]
  },
  {
   "cell_type": "code",
   "execution_count": 56,
   "id": "c0452441-d03d-4bcb-aedc-55e9461c13d7",
   "metadata": {},
   "outputs": [
    {
     "data": {
      "text/html": [
       "<div>\n",
       "<style scoped>\n",
       "    .dataframe tbody tr th:only-of-type {\n",
       "        vertical-align: middle;\n",
       "    }\n",
       "\n",
       "    .dataframe tbody tr th {\n",
       "        vertical-align: top;\n",
       "    }\n",
       "\n",
       "    .dataframe thead th {\n",
       "        text-align: right;\n",
       "    }\n",
       "</style>\n",
       "<table border=\"1\" class=\"dataframe\">\n",
       "  <thead>\n",
       "    <tr style=\"text-align: right;\">\n",
       "      <th></th>\n",
       "      <th>0</th>\n",
       "    </tr>\n",
       "  </thead>\n",
       "  <tbody>\n",
       "    <tr>\n",
       "      <th>molwt</th>\n",
       "      <td>788.268845</td>\n",
       "    </tr>\n",
       "    <tr>\n",
       "      <th>logP</th>\n",
       "      <td>13.818360</td>\n",
       "    </tr>\n",
       "    <tr>\n",
       "      <th>hbd</th>\n",
       "      <td>0.000000</td>\n",
       "    </tr>\n",
       "    <tr>\n",
       "      <th>hba</th>\n",
       "      <td>6.000000</td>\n",
       "    </tr>\n",
       "    <tr>\n",
       "      <th>tpsa</th>\n",
       "      <td>67.300000</td>\n",
       "    </tr>\n",
       "    <tr>\n",
       "      <th>Qed</th>\n",
       "      <td>0.178204</td>\n",
       "    </tr>\n",
       "  </tbody>\n",
       "</table>\n",
       "</div>"
      ],
      "text/plain": [
       "                0\n",
       "molwt  788.268845\n",
       "logP    13.818360\n",
       "hbd      0.000000\n",
       "hba      6.000000\n",
       "tpsa    67.300000\n",
       "Qed      0.178204"
      ]
     },
     "execution_count": 56,
     "metadata": {},
     "output_type": "execute_result"
    }
   ],
   "source": [
    "df_1 = pd.DataFrame(Descripteurs, ['molwt','logP','hbd','hba','tpsa','Qed'])\n",
    "df_1 = df_1.rename(index={0: '4CzIPN'})\n",
    "\n",
    "df_1"
   ]
  },
  {
   "cell_type": "code",
   "execution_count": 14,
   "id": "439734e9-c16c-41d9-9dfc-de4a75ef52b0",
   "metadata": {},
   "outputs": [],
   "source": [
    "smi = 'CC1(C2=CC=CC=C2NC3=CC=CC=C31)C'\n",
    "m3 = Chem.MolFromSmiles(smi)\n",
    "mol3 = Chem.AddHs(m3)\n",
    "rdkit.Chem.AllChem.EmbedMolecule(mol3) # Génère la molécule en 3D\n",
    "rdkit.Chem.AllChem.MMFFOptimizeMolecule(mol3) # Optimise \n",
    "output_directory = 'data'\n",
    "if not os.path.exists(output_directory):\n",
    "    os.makedirs(output_directory)\n",
    "output_filename = os.path.join(output_directory, '{Smile_dict_DMAC1}.xyz')\n",
    "rdkit.Chem.MolToXYZFile(mol3, output_filename)"
   ]
  },
  {
   "cell_type": "code",
   "execution_count": 37,
   "id": "b8815d78-1c0e-464d-b8e6-e2112d113c4a",
   "metadata": {},
   "outputs": [
    {
     "name": "stdout",
     "output_type": "stream",
     "text": [
      "Our molecular properties are:\n",
      " Molecular weight:209.12044948,\n",
      " Hbd:1, \n",
      " Hba:1 \n",
      " polarity:12.03, \n",
      " solubility:4.069500000000002, \n",
      " Quantitative drug-likeness:0.689301125270511\n"
     ]
    }
   ],
   "source": [
    "molwt = Descriptors.ExactMolWt(mol3) \n",
    "logP = Descriptors.MolLogP(mol3) \n",
    "hbd = Descriptors.NumHDonors(mol3)\n",
    "hba = Descriptors.NumHAcceptors(mol3)\n",
    "tpsa = Descriptors.TPSA(mol3) \n",
    "Qed = Chem.QED.qed(mol3)  \n",
    "print(f'Our molecular properties are:\\n Molecular weight:{molwt},\\n Hbd:{hbd}, \\n Hba:{hba} \\n polarity:{tpsa}, \\n solubility:{logP}, \\n Quantitative drug-likeness:{Qed}')"
   ]
  },
  {
   "cell_type": "code",
   "execution_count": 38,
   "id": "2b86781b-f6cc-4c0d-b1aa-fef0c09e9d29",
   "metadata": {},
   "outputs": [],
   "source": [
    "Descripteurs = [molwt,logP,hbd,hba,tpsa,Qed]"
   ]
  },
  {
   "cell_type": "code",
   "execution_count": 39,
   "id": "54f4f338-a853-45a1-97b1-e4eea8ab8cdf",
   "metadata": {},
   "outputs": [
    {
     "data": {
      "text/html": [
       "<div>\n",
       "<style scoped>\n",
       "    .dataframe tbody tr th:only-of-type {\n",
       "        vertical-align: middle;\n",
       "    }\n",
       "\n",
       "    .dataframe tbody tr th {\n",
       "        vertical-align: top;\n",
       "    }\n",
       "\n",
       "    .dataframe thead th {\n",
       "        text-align: right;\n",
       "    }\n",
       "</style>\n",
       "<table border=\"1\" class=\"dataframe\">\n",
       "  <thead>\n",
       "    <tr style=\"text-align: right;\">\n",
       "      <th></th>\n",
       "      <th>0</th>\n",
       "    </tr>\n",
       "  </thead>\n",
       "  <tbody>\n",
       "    <tr>\n",
       "      <th>molwt</th>\n",
       "      <td>209.120449</td>\n",
       "    </tr>\n",
       "    <tr>\n",
       "      <th>logP</th>\n",
       "      <td>4.069500</td>\n",
       "    </tr>\n",
       "    <tr>\n",
       "      <th>hbd</th>\n",
       "      <td>1.000000</td>\n",
       "    </tr>\n",
       "    <tr>\n",
       "      <th>hba</th>\n",
       "      <td>1.000000</td>\n",
       "    </tr>\n",
       "    <tr>\n",
       "      <th>tpsa</th>\n",
       "      <td>12.030000</td>\n",
       "    </tr>\n",
       "    <tr>\n",
       "      <th>Qed</th>\n",
       "      <td>0.689301</td>\n",
       "    </tr>\n",
       "  </tbody>\n",
       "</table>\n",
       "</div>"
      ],
      "text/plain": [
       "                0\n",
       "molwt  209.120449\n",
       "logP     4.069500\n",
       "hbd      1.000000\n",
       "hba      1.000000\n",
       "tpsa    12.030000\n",
       "Qed      0.689301"
      ]
     },
     "execution_count": 39,
     "metadata": {},
     "output_type": "execute_result"
    }
   ],
   "source": [
    "df_2 = pd.DataFrame(Descripteurs, ['molwt','logP','hbd','hba','tpsa','Qed'])\n",
    "df_2"
   ]
  },
  {
   "cell_type": "code",
   "execution_count": 31,
   "id": "b9eaeedf-e234-4ecf-9043-79d2dc694d20",
   "metadata": {},
   "outputs": [],
   "source": [
    "smi = 'C1=CC=C2C(=C1)NC3=CC=CC=C3O2'\n",
    "m4 = Chem.MolFromSmiles(smi)\n",
    "mol4 = Chem.AddHs(m4)\n",
    "rdkit.Chem.AllChem.EmbedMolecule(mol4) # Génère la molécule en 3D\n",
    "rdkit.Chem.AllChem.MMFFOptimizeMolecule(mol4) # Optimise \n",
    "output_directory = 'data'\n",
    "if not os.path.exists(output_directory):\n",
    "    os.makedirs(output_directory)\n",
    "output_filename = os.path.join(output_directory, '{Smile_dict_DMAC2}.xyz')\n",
    "rdkit.Chem.MolToXYZFile(mol4, output_filename)"
   ]
  },
  {
   "cell_type": "code",
   "execution_count": 32,
   "id": "ebffb97b-92f7-4d91-b84e-2e7aa7df4b23",
   "metadata": {},
   "outputs": [
    {
     "name": "stdout",
     "output_type": "stream",
     "text": [
      "Our molecular properties are:\n",
      " Molecular weight:183.068413908,\n",
      " Hbd:1, \n",
      " Hba:2 \n",
      " polarity:21.259999999999998, \n",
      " solubility:3.5359000000000016, \n",
      " Quantitative drug-likeness:0.5752094545379681\n"
     ]
    }
   ],
   "source": [
    "molwt = Descriptors.ExactMolWt(mol4) \n",
    "logP = Descriptors.MolLogP(mol4) \n",
    "hbd = Descriptors.NumHDonors(mol4)\n",
    "hba = Descriptors.NumHAcceptors(mol4)\n",
    "tpsa = Descriptors.TPSA(mol4) \n",
    "Qed = Chem.QED.qed(mol4)  \n",
    "print(f'Our molecular properties are:\\n Molecular weight:{molwt},\\n Hbd:{hbd}, \\n Hba:{hba} \\n polarity:{tpsa}, \\n solubility:{logP}, \\n Quantitative drug-likeness:{Qed}')"
   ]
  },
  {
   "cell_type": "code",
   "execution_count": 33,
   "id": "15e72910-c8ba-4507-9f32-d1f87fd64401",
   "metadata": {},
   "outputs": [],
   "source": [
    "Descripteurs = [molwt,logP,hbd,hba,tpsa,Qed]"
   ]
  },
  {
   "cell_type": "code",
   "execution_count": 34,
   "id": "ec3c75d0-7eb5-4797-b1fc-5de108f832c1",
   "metadata": {},
   "outputs": [
    {
     "data": {
      "text/html": [
       "<div>\n",
       "<style scoped>\n",
       "    .dataframe tbody tr th:only-of-type {\n",
       "        vertical-align: middle;\n",
       "    }\n",
       "\n",
       "    .dataframe tbody tr th {\n",
       "        vertical-align: top;\n",
       "    }\n",
       "\n",
       "    .dataframe thead th {\n",
       "        text-align: right;\n",
       "    }\n",
       "</style>\n",
       "<table border=\"1\" class=\"dataframe\">\n",
       "  <thead>\n",
       "    <tr style=\"text-align: right;\">\n",
       "      <th></th>\n",
       "      <th>0</th>\n",
       "    </tr>\n",
       "  </thead>\n",
       "  <tbody>\n",
       "    <tr>\n",
       "      <th>molwt</th>\n",
       "      <td>183.068414</td>\n",
       "    </tr>\n",
       "    <tr>\n",
       "      <th>logP</th>\n",
       "      <td>3.535900</td>\n",
       "    </tr>\n",
       "    <tr>\n",
       "      <th>hbd</th>\n",
       "      <td>1.000000</td>\n",
       "    </tr>\n",
       "    <tr>\n",
       "      <th>hba</th>\n",
       "      <td>2.000000</td>\n",
       "    </tr>\n",
       "    <tr>\n",
       "      <th>tpsa</th>\n",
       "      <td>21.260000</td>\n",
       "    </tr>\n",
       "    <tr>\n",
       "      <th>Qed</th>\n",
       "      <td>0.575209</td>\n",
       "    </tr>\n",
       "  </tbody>\n",
       "</table>\n",
       "</div>"
      ],
      "text/plain": [
       "                0\n",
       "molwt  183.068414\n",
       "logP     3.535900\n",
       "hbd      1.000000\n",
       "hba      2.000000\n",
       "tpsa    21.260000\n",
       "Qed      0.575209"
      ]
     },
     "execution_count": 34,
     "metadata": {},
     "output_type": "execute_result"
    }
   ],
   "source": [
    "df_4 = pd.DataFrame(Descripteurs, ['molwt','logP','hbd','hba','tpsa','Qed'])\n",
    "df_4"
   ]
  },
  {
   "cell_type": "code",
   "execution_count": 19,
   "id": "17ac56d6-dcbe-477b-96cc-db83520d0227",
   "metadata": {},
   "outputs": [
    {
     "name": "stderr",
     "output_type": "stream",
     "text": [
      "[20:40:07] UFFTYPER: Unrecognized atom type: B_1 (0)\n"
     ]
    }
   ],
   "source": [
    "smi = 'B1=CC=NC=C1'\n",
    "m5 = Chem.MolFromSmiles(smi)\n",
    "mol5 = Chem.AddHs(m5)\n",
    "rdkit.Chem.AllChem.EmbedMolecule(mol5) # Génère la molécule en 3D\n",
    "rdkit.Chem.AllChem.MMFFOptimizeMolecule(mol5) # Optimise \n",
    "output_directory = 'data'\n",
    "if not os.path.exists(output_directory):\n",
    "    os.makedirs(output_directory)\n",
    "output_filename = os.path.join(output_directory, '{Smile_dict_AZB1}.xyz')\n",
    "rdkit.Chem.MolToXYZFile(mol5, output_filename)"
   ]
  },
  {
   "cell_type": "code",
   "execution_count": 20,
   "id": "844d45c5-1732-4c3f-8908-f41ec099c6b6",
   "metadata": {},
   "outputs": [
    {
     "name": "stdout",
     "output_type": "stream",
     "text": [
      "Our molecular properties are:\n",
      " Molecular weight:77.043679528,\n",
      " Hbd:0, \n",
      " Hba:1 \n",
      " polarity:12.89, \n",
      " solubility:0.4196999999999999, \n",
      " Quantitative drug-likeness:0.43683542651349583\n"
     ]
    }
   ],
   "source": [
    "molwt = Descriptors.ExactMolWt(mol5) \n",
    "logP = Descriptors.MolLogP(mol5) \n",
    "hbd = Descriptors.NumHDonors(mol5)\n",
    "hba = Descriptors.NumHAcceptors(mol5)\n",
    "tpsa = Descriptors.TPSA(mol5) \n",
    "Qed = Chem.QED.qed(mol5)  \n",
    "print(f'Our molecular properties are:\\n Molecular weight:{molwt},\\n Hbd:{hbd}, \\n Hba:{hba} \\n polarity:{tpsa}, \\n solubility:{logP}, \\n Quantitative drug-likeness:{Qed}')"
   ]
  },
  {
   "cell_type": "code",
   "execution_count": 28,
   "id": "be552b16-47ae-490c-ac95-72304306dad6",
   "metadata": {},
   "outputs": [],
   "source": [
    "Descripteurs = [molwt,logP,hbd,hba,tpsa,Qed]"
   ]
  },
  {
   "cell_type": "code",
   "execution_count": 30,
   "id": "19770fd0-888d-4b06-a0d8-c635d47ddc8c",
   "metadata": {},
   "outputs": [
    {
     "data": {
      "text/html": [
       "<div>\n",
       "<style scoped>\n",
       "    .dataframe tbody tr th:only-of-type {\n",
       "        vertical-align: middle;\n",
       "    }\n",
       "\n",
       "    .dataframe tbody tr th {\n",
       "        vertical-align: top;\n",
       "    }\n",
       "\n",
       "    .dataframe thead th {\n",
       "        text-align: right;\n",
       "    }\n",
       "</style>\n",
       "<table border=\"1\" class=\"dataframe\">\n",
       "  <thead>\n",
       "    <tr style=\"text-align: right;\">\n",
       "      <th></th>\n",
       "      <th>0</th>\n",
       "    </tr>\n",
       "  </thead>\n",
       "  <tbody>\n",
       "    <tr>\n",
       "      <th>molwt</th>\n",
       "      <td>183.068414</td>\n",
       "    </tr>\n",
       "    <tr>\n",
       "      <th>logP</th>\n",
       "      <td>3.535900</td>\n",
       "    </tr>\n",
       "    <tr>\n",
       "      <th>hbd</th>\n",
       "      <td>1.000000</td>\n",
       "    </tr>\n",
       "    <tr>\n",
       "      <th>hba</th>\n",
       "      <td>2.000000</td>\n",
       "    </tr>\n",
       "    <tr>\n",
       "      <th>tpsa</th>\n",
       "      <td>21.260000</td>\n",
       "    </tr>\n",
       "    <tr>\n",
       "      <th>Qed</th>\n",
       "      <td>0.575209</td>\n",
       "    </tr>\n",
       "  </tbody>\n",
       "</table>\n",
       "</div>"
      ],
      "text/plain": [
       "                0\n",
       "molwt  183.068414\n",
       "logP     3.535900\n",
       "hbd      1.000000\n",
       "hba      2.000000\n",
       "tpsa    21.260000\n",
       "Qed      0.575209"
      ]
     },
     "execution_count": 30,
     "metadata": {},
     "output_type": "execute_result"
    }
   ],
   "source": [
    "df_5 = pd.DataFrame(Descripteurs,['molwt','logP','hbd','hba','tpsa','Qed'])\n",
    "df_5"
   ]
  },
  {
   "cell_type": "code",
   "execution_count": 58,
   "id": "8b5ad56d-ac83-4182-8b50-e3270d9b0840",
   "metadata": {},
   "outputs": [
    {
     "data": {
      "text/html": [
       "<div>\n",
       "<style scoped>\n",
       "    .dataframe tbody tr th:only-of-type {\n",
       "        vertical-align: middle;\n",
       "    }\n",
       "\n",
       "    .dataframe tbody tr th {\n",
       "        vertical-align: top;\n",
       "    }\n",
       "\n",
       "    .dataframe thead th {\n",
       "        text-align: right;\n",
       "    }\n",
       "</style>\n",
       "<table border=\"1\" class=\"dataframe\">\n",
       "  <thead>\n",
       "    <tr style=\"text-align: right;\">\n",
       "      <th></th>\n",
       "      <th>0</th>\n",
       "      <th>0</th>\n",
       "      <th>0</th>\n",
       "      <th>0</th>\n",
       "    </tr>\n",
       "  </thead>\n",
       "  <tbody>\n",
       "    <tr>\n",
       "      <th>molwt</th>\n",
       "      <td>788.268845</td>\n",
       "      <td>209.120449</td>\n",
       "      <td>183.068414</td>\n",
       "      <td>183.068414</td>\n",
       "    </tr>\n",
       "    <tr>\n",
       "      <th>logP</th>\n",
       "      <td>13.818360</td>\n",
       "      <td>4.069500</td>\n",
       "      <td>3.535900</td>\n",
       "      <td>3.535900</td>\n",
       "    </tr>\n",
       "    <tr>\n",
       "      <th>hbd</th>\n",
       "      <td>0.000000</td>\n",
       "      <td>1.000000</td>\n",
       "      <td>1.000000</td>\n",
       "      <td>1.000000</td>\n",
       "    </tr>\n",
       "    <tr>\n",
       "      <th>hba</th>\n",
       "      <td>6.000000</td>\n",
       "      <td>1.000000</td>\n",
       "      <td>2.000000</td>\n",
       "      <td>2.000000</td>\n",
       "    </tr>\n",
       "    <tr>\n",
       "      <th>tpsa</th>\n",
       "      <td>67.300000</td>\n",
       "      <td>12.030000</td>\n",
       "      <td>21.260000</td>\n",
       "      <td>21.260000</td>\n",
       "    </tr>\n",
       "    <tr>\n",
       "      <th>Qed</th>\n",
       "      <td>0.178204</td>\n",
       "      <td>0.689301</td>\n",
       "      <td>0.575209</td>\n",
       "      <td>0.575209</td>\n",
       "    </tr>\n",
       "  </tbody>\n",
       "</table>\n",
       "</div>"
      ],
      "text/plain": [
       "                0           0           0           0\n",
       "molwt  788.268845  209.120449  183.068414  183.068414\n",
       "logP    13.818360    4.069500    3.535900    3.535900\n",
       "hbd      0.000000    1.000000    1.000000    1.000000\n",
       "hba      6.000000    1.000000    2.000000    2.000000\n",
       "tpsa    67.300000   12.030000   21.260000   21.260000\n",
       "Qed      0.178204    0.689301    0.575209    0.575209"
      ]
     },
     "execution_count": 58,
     "metadata": {},
     "output_type": "execute_result"
    }
   ],
   "source": [
    "data = pd.concat([df_1, df_2, df_4, df_5], axis=1)\n",
    "data"
   ]
  },
  {
   "cell_type": "code",
   "execution_count": 51,
   "id": "28e1d6b4-50bf-4d19-b587-46e8701d4981",
   "metadata": {},
   "outputs": [],
   "source": [
    "from rdkit.Chem import Descriptors\n",
    "import pandas as pd"
   ]
  },
  {
   "cell_type": "code",
   "execution_count": null,
   "id": "58c88830-3cfa-4dd1-b20a-089b9f4f9b3f",
   "metadata": {},
   "outputs": [],
   "source": [
    "for key, value in smile_dict.items():\n",
    "    mol = Chem.MolFromSmiles(value)\n",
    "    mol = Chem.AddHs(mol)\n",
    "    molwt = Descriptors.ExactMolWt(mol) \n",
    "    logP = Descriptors.MolLogP(mol) \n",
    "    hbd = Descriptors.NumHDonors(mol)\n",
    "    hba = Descriptors.NumHAcceptors(mol)\n",
    "    tpsa = Descriptors.TPSA(mol) \n",
    "    Qed = Chem.QED.qed(mol)  \n"
   ]
  },
  {
   "cell_type": "code",
   "execution_count": null,
   "id": "12711b39-df1b-4277-8519-c4002b5fd6ba",
   "metadata": {},
   "outputs": [],
   "source": [
    "data = []\n",
    "molecular_properties = {\n",
    "        'Molecule': key,\n",
    "        'Molecular Weight': molwt,\n",
    "        'LogP': logP,\n",
    "        'TPSA': tpsa,\n",
    "        'Hbd': hbd,\n",
    "        'Hba': hba,\n",
    "        'QED': Qed\n",
    "    }\n",
    "data.append(molecular_properties)\n",
    "\n",
    "df = pd.DataFrame(data)\n",
    "\n",
    "df.set_index('Molecule', inplace=True)\n",
    "\n",
    "print(df)"
   ]
  },
  {
   "cell_type": "code",
   "execution_count": null,
   "id": "120d83ba-93b7-4ab2-96df-036279d59cef",
   "metadata": {},
   "outputs": [],
   "source": []
  }
 ],
 "metadata": {
  "kernelspec": {
   "display_name": "Python 3 (ipykernel)",
   "language": "python",
   "name": "python3"
  },
  "language_info": {
   "codemirror_mode": {
    "name": "ipython",
    "version": 3
   },
   "file_extension": ".py",
   "mimetype": "text/x-python",
   "name": "python",
   "nbconvert_exporter": "python",
   "pygments_lexer": "ipython3",
   "version": "3.10.9"
  }
 },
 "nbformat": 4,
 "nbformat_minor": 5
}
